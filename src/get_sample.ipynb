{
 "cells": [
  {
   "cell_type": "markdown",
   "id": "f706e71c",
   "metadata": {},
   "source": [
    "Dapatkan beberapa sampel untuk dilakukan fine-tuning, beberapa data ini dilabeli secara manual"
   ]
  },
  {
   "cell_type": "code",
   "execution_count": 1,
   "id": "45c2e5e8",
   "metadata": {},
   "outputs": [],
   "source": [
    "import pandas as pd"
   ]
  },
  {
   "cell_type": "code",
   "execution_count": 2,
   "id": "ac81a7c8",
   "metadata": {},
   "outputs": [
    {
     "data": {
      "application/vnd.microsoft.datawrangler.viewer.v0+json": {
       "columns": [
        {
         "name": "index",
         "rawType": "int64",
         "type": "integer"
        },
        {
         "name": "title",
         "rawType": "object",
         "type": "string"
        },
        {
         "name": "stars",
         "rawType": "int64",
         "type": "integer"
        },
        {
         "name": "text",
         "rawType": "object",
         "type": "string"
        }
       ],
       "ref": "9024cb48-55b7-40c7-a5ef-5313042b6575",
       "rows": [
        [
         "0",
         "RS Brayat Minulya",
         "5",
         "telah dirawat di sini selama beberapa hari di Maria 3 Ward selama waktu itu staf baik medis dan non medis begitu baik dan membantu ruangan juga bersih juga terima kasih banyak telah membantu saya menjadi lebih baik beberapa hari terakhir berharap kalian akan menjaga kerja yang baik dengan baik"
        ],
        [
         "1",
         "RS Brayat Minulya",
         "5",
         "bersih dan rapi petugas peeawatdokter ditanya tanya enak jawabnya dan sangat ramah"
        ],
        [
         "2",
         "RS Brayat Minulya",
         "5",
         "terimakasih atas pelayanan dan perawatan ibu sayatak lupa semua perawat suster ruang yosep sdh sabar dan pelayannyasiip jaga terus kredibilitas pelayan yg lbh baik"
        ],
        [
         "3",
         "RS Brayat Minulya",
         "5",
         "pelayanan diruang yosef bagus perawat ramah ramah sopan"
        ],
        [
         "4",
         "RS Brayat Minulya",
         "5",
         "tempatnya bagusrapi nyaman sekali ruangan nya terimakasih rs brayat minulnya berkat suster yang baik dan sabar ayah saya jadi sembuh"
        ]
       ],
       "shape": {
        "columns": 3,
        "rows": 5
       }
      },
      "text/html": [
       "<div>\n",
       "<style scoped>\n",
       "    .dataframe tbody tr th:only-of-type {\n",
       "        vertical-align: middle;\n",
       "    }\n",
       "\n",
       "    .dataframe tbody tr th {\n",
       "        vertical-align: top;\n",
       "    }\n",
       "\n",
       "    .dataframe thead th {\n",
       "        text-align: right;\n",
       "    }\n",
       "</style>\n",
       "<table border=\"1\" class=\"dataframe\">\n",
       "  <thead>\n",
       "    <tr style=\"text-align: right;\">\n",
       "      <th></th>\n",
       "      <th>title</th>\n",
       "      <th>stars</th>\n",
       "      <th>text</th>\n",
       "    </tr>\n",
       "  </thead>\n",
       "  <tbody>\n",
       "    <tr>\n",
       "      <th>0</th>\n",
       "      <td>RS Brayat Minulya</td>\n",
       "      <td>5</td>\n",
       "      <td>telah dirawat di sini selama beberapa hari di ...</td>\n",
       "    </tr>\n",
       "    <tr>\n",
       "      <th>1</th>\n",
       "      <td>RS Brayat Minulya</td>\n",
       "      <td>5</td>\n",
       "      <td>bersih dan rapi petugas peeawatdokter ditanya ...</td>\n",
       "    </tr>\n",
       "    <tr>\n",
       "      <th>2</th>\n",
       "      <td>RS Brayat Minulya</td>\n",
       "      <td>5</td>\n",
       "      <td>terimakasih atas pelayanan dan perawatan ibu s...</td>\n",
       "    </tr>\n",
       "    <tr>\n",
       "      <th>3</th>\n",
       "      <td>RS Brayat Minulya</td>\n",
       "      <td>5</td>\n",
       "      <td>pelayanan diruang yosef bagus perawat ramah ra...</td>\n",
       "    </tr>\n",
       "    <tr>\n",
       "      <th>4</th>\n",
       "      <td>RS Brayat Minulya</td>\n",
       "      <td>5</td>\n",
       "      <td>tempatnya bagusrapi nyaman sekali ruangan nya ...</td>\n",
       "    </tr>\n",
       "  </tbody>\n",
       "</table>\n",
       "</div>"
      ],
      "text/plain": [
       "               title  stars                                               text\n",
       "0  RS Brayat Minulya      5  telah dirawat di sini selama beberapa hari di ...\n",
       "1  RS Brayat Minulya      5  bersih dan rapi petugas peeawatdokter ditanya ...\n",
       "2  RS Brayat Minulya      5  terimakasih atas pelayanan dan perawatan ibu s...\n",
       "3  RS Brayat Minulya      5  pelayanan diruang yosef bagus perawat ramah ra...\n",
       "4  RS Brayat Minulya      5  tempatnya bagusrapi nyaman sekali ruangan nya ..."
      ]
     },
     "execution_count": 2,
     "metadata": {},
     "output_type": "execute_result"
    }
   ],
   "source": [
    "data = pd.read_csv(r\"D:\\Willy's Project\\Project\\Magang Diskominfo\\data\\dataset_final_translated.csv\")\n",
    "data.head()"
   ]
  },
  {
   "cell_type": "code",
   "execution_count": null,
   "id": "3d9525a6",
   "metadata": {},
   "outputs": [],
   "source": [
    "# ambil 500 sampel data acak\n",
    "sampled_data = data.sample(n=800, random_state=42).reset_index(drop=True)"
   ]
  },
  {
   "cell_type": "code",
   "execution_count": 4,
   "id": "5303236e",
   "metadata": {},
   "outputs": [],
   "source": [
    "# tambahkan kolom label kosong\n",
    "sampled_data['pelayanan'] = ''\n",
    "sampled_data['fasilitas'] = ''"
   ]
  },
  {
   "cell_type": "code",
   "execution_count": 5,
   "id": "b4d0d564",
   "metadata": {},
   "outputs": [],
   "source": [
    "# simpan ke xlsx\n",
    "sampled_data.to_excel(r\"D:\\Willy's Project\\Project\\Magang Diskominfo\\data\\dataset_sample_2.xlsx\", index=False)"
   ]
  }
 ],
 "metadata": {
  "kernelspec": {
   "display_name": "Python 3",
   "language": "python",
   "name": "python3"
  },
  "language_info": {
   "codemirror_mode": {
    "name": "ipython",
    "version": 3
   },
   "file_extension": ".py",
   "mimetype": "text/x-python",
   "name": "python",
   "nbconvert_exporter": "python",
   "pygments_lexer": "ipython3",
   "version": "3.11.0"
  }
 },
 "nbformat": 4,
 "nbformat_minor": 5
}
