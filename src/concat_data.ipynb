{
 "cells": [
  {
   "cell_type": "code",
   "execution_count": 1,
   "id": "4da92d86",
   "metadata": {},
   "outputs": [],
   "source": [
    "import pandas as pd"
   ]
  },
  {
   "cell_type": "code",
   "execution_count": 2,
   "id": "44a7ba93",
   "metadata": {},
   "outputs": [],
   "source": [
    "df1 = pd.read_csv(r\"D:\\Willy's Project\\Project\\Magang Diskominfo\\data\\RS_Brayat_Mulya.csv\")\n",
    "df2 = pd.read_csv(r\"D:\\Willy's Project\\Project\\Magang Diskominfo\\data\\RS_Bung_Karno.csv\")\n",
    "df3 = pd.read_csv(r\"D:\\Willy's Project\\Project\\Magang Diskominfo\\data\\RS_Dr_Oen.csv\")\n",
    "df4 = pd.read_csv(r\"D:\\Willy's Project\\Project\\Magang Diskominfo\\data\\RS_Fatmawati.csv\")\n",
    "df5 = pd.read_csv(r\"D:\\Willy's Project\\Project\\Magang Diskominfo\\data\\RS_Panti_Waluyo.csv\")\n",
    "df6 = pd.read_csv(r\"D:\\Willy's Project\\Project\\Magang Diskominfo\\data\\RS_Slamet_Riyadi.csv\")\n",
    "df7 = pd.read_csv(r\"D:\\Willy's Project\\Project\\Magang Diskominfo\\data\\RS_Triharsi.csv\")\n",
    "df8 = pd.read_csv(r\"D:\\Willy's Project\\Project\\Magang Diskominfo\\data\\RSUP_Surakarta.csv\")"
   ]
  },
  {
   "cell_type": "code",
   "execution_count": null,
   "id": "834790a2",
   "metadata": {},
   "outputs": [],
   "source": [
    "# concat all data\n",
    "data = pd.concat([df1, df2, df3, df4, df5, df6, df7, df8], ignore_index=True)"
   ]
  }
 ],
 "metadata": {
  "kernelspec": {
   "display_name": "Python 3",
   "language": "python",
   "name": "python3"
  },
  "language_info": {
   "codemirror_mode": {
    "name": "ipython",
    "version": 3
   },
   "file_extension": ".py",
   "mimetype": "text/x-python",
   "name": "python",
   "nbconvert_exporter": "python",
   "pygments_lexer": "ipython3",
   "version": "3.11.0"
  }
 },
 "nbformat": 4,
 "nbformat_minor": 5
}
