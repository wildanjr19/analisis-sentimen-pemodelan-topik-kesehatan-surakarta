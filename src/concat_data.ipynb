{
 "cells": [
  {
   "cell_type": "code",
   "execution_count": 1,
   "id": "4da92d86",
   "metadata": {},
   "outputs": [],
   "source": [
    "import pandas as pd"
   ]
  },
  {
   "cell_type": "code",
   "execution_count": 2,
   "id": "44a7ba93",
   "metadata": {},
   "outputs": [],
   "source": [
    "df1 = pd.read_csv(r\"D:\\Willy's Project\\Project\\Magang Diskominfo\\data\\RS_Brayat_Mulya.csv\")\n",
    "df2 = pd.read_csv(r\"D:\\Willy's Project\\Project\\Magang Diskominfo\\data\\RS_Bung_Karno.csv\")\n",
    "df3 = pd.read_csv(r\"D:\\Willy's Project\\Project\\Magang Diskominfo\\data\\RS_Dr_Oen.csv\")\n",
    "df4 = pd.read_csv(r\"D:\\Willy's Project\\Project\\Magang Diskominfo\\data\\RS_Fatmawati.csv\")\n",
    "df5 = pd.read_csv(r\"D:\\Willy's Project\\Project\\Magang Diskominfo\\data\\RS_Panti_Waluyo.csv\")\n",
    "df6 = pd.read_csv(r\"D:\\Willy's Project\\Project\\Magang Diskominfo\\data\\RS_Slamet_Riyadi.csv\")\n",
    "df7 = pd.read_csv(r\"D:\\Willy's Project\\Project\\Magang Diskominfo\\data\\RS_Triharsi.csv\")\n",
    "df8 = pd.read_csv(r\"D:\\Willy's Project\\Project\\Magang Diskominfo\\data\\RSUP_Surakarta.csv\")"
   ]
  },
  {
   "cell_type": "code",
   "execution_count": 3,
   "id": "834790a2",
   "metadata": {},
   "outputs": [],
   "source": [
    "# concat all data\n",
    "data = pd.concat([df1, df2, df3, df4, df5, df6, df7, df8], ignore_index=True)"
   ]
  },
  {
   "cell_type": "code",
   "execution_count": 4,
   "id": "d92eeb77",
   "metadata": {},
   "outputs": [
    {
     "data": {
      "application/vnd.microsoft.datawrangler.viewer.v0+json": {
       "columns": [
        {
         "name": "index",
         "rawType": "int64",
         "type": "integer"
        },
        {
         "name": "title",
         "rawType": "object",
         "type": "string"
        },
        {
         "name": "url",
         "rawType": "object",
         "type": "string"
        },
        {
         "name": "stars",
         "rawType": "int64",
         "type": "integer"
        },
        {
         "name": "name",
         "rawType": "float64",
         "type": "float"
        },
        {
         "name": "reviewUrl",
         "rawType": "float64",
         "type": "float"
        },
        {
         "name": "text",
         "rawType": "object",
         "type": "unknown"
        }
       ],
       "ref": "87021f83-e756-457b-8154-f312ed706615",
       "rows": [
        [
         "0",
         "RS Brayat Minulya",
         "https://www.google.com/maps/search/?api=1&query=RS%20Brayat%20Minulya&query_place_id=ChIJyazc9scXei4RSMD_Pq1tPyY",
         "5",
         null,
         null,
         "Was admitted here for a few days in Maria 3 ward. During that time, the staffs, both medical and non medical, were so kind and helpful. The room were also clean as well. Thank you so much for helping me getting better those past few days. Hope you guys will keep up the good work."
        ],
        [
         "1",
         "RS Brayat Minulya",
         "https://www.google.com/maps/search/?api=1&query=RS%20Brayat%20Minulya&query_place_id=ChIJyazc9scXei4RSMD_Pq1tPyY",
         "5",
         null,
         null,
         "Bersih dan rapi\nPetugas peeawat,dokter ditanya tanya enak jawabnya dan sangat ramah"
        ],
        [
         "2",
         "RS Brayat Minulya",
         "https://www.google.com/maps/search/?api=1&query=RS%20Brayat%20Minulya&query_place_id=ChIJyazc9scXei4RSMD_Pq1tPyY",
         "5",
         null,
         null,
         "Terimakasih atas pelayanan dan perawatan ibu saya,tak lupa semua perawat suster Ruang Yosep sdh sabar dan pelayannya,siip jaga terus kredibilitas pelayan yg lbh baik"
        ],
        [
         "3",
         "RS Brayat Minulya",
         "https://www.google.com/maps/search/?api=1&query=RS%20Brayat%20Minulya&query_place_id=ChIJyazc9scXei4RSMD_Pq1tPyY",
         "5",
         null,
         null,
         "Pelayanan diruang Yosef bagus. Perawat ramah ramah. Sopan."
        ],
        [
         "4",
         "RS Brayat Minulya",
         "https://www.google.com/maps/search/?api=1&query=RS%20Brayat%20Minulya&query_place_id=ChIJyazc9scXei4RSMD_Pq1tPyY",
         "5",
         null,
         null,
         "Tempatnya bagus,rapi , nyaman sekali ruangan nya🙏 terimakasih RS brayat minulnya berkat suster \" yang baik dan sabar ayah saya jadi sembuh🥰🥰🥰"
        ],
        [
         "5",
         "RS Brayat Minulya",
         "https://www.google.com/maps/search/?api=1&query=RS%20Brayat%20Minulya&query_place_id=ChIJyazc9scXei4RSMD_Pq1tPyY",
         "5",
         null,
         null,
         "Mantap....\nPelayanan maximal...\nTerimakasih banyak untuk ruang maria yg telah merawat ku dengan sepenuh hati... Senantiasa cinta kasih Tuhan melingkupi kita semua... Amin"
        ],
        [
         "6",
         "RS Brayat Minulya",
         "https://www.google.com/maps/search/?api=1&query=RS%20Brayat%20Minulya&query_place_id=ChIJyazc9scXei4RSMD_Pq1tPyY",
         "5",
         null,
         null,
         "Perawat Ruang Maria ramah, pelayanan baik dan responsif.\nBravo!"
        ],
        [
         "7",
         "RS Brayat Minulya",
         "https://www.google.com/maps/search/?api=1&query=RS%20Brayat%20Minulya&query_place_id=ChIJyazc9scXei4RSMD_Pq1tPyY",
         "5",
         null,
         null,
         "Ruang yosep, perawatannya baik,respon cepat,ramah , trimakasih sudah di rawat"
        ],
        [
         "8",
         "RS Brayat Minulya",
         "https://www.google.com/maps/search/?api=1&query=RS%20Brayat%20Minulya&query_place_id=ChIJyazc9scXei4RSMD_Pq1tPyY",
         "5",
         null,
         null,
         "Ruang Yoseph Pelayanan bagus, ramah dan responnya cepat.\nTerima kasih RS. Brayat M."
        ],
        [
         "9",
         "RS Brayat Minulya",
         "https://www.google.com/maps/search/?api=1&query=RS%20Brayat%20Minulya&query_place_id=ChIJyazc9scXei4RSMD_Pq1tPyY",
         "5",
         null,
         null,
         "Berobat di RS brayat.. Pelayanan memuaskan.. Ramah"
        ],
        [
         "10",
         "RS Brayat Minulya",
         "https://www.google.com/maps/search/?api=1&query=RS%20Brayat%20Minulya&query_place_id=ChIJyazc9scXei4RSMD_Pq1tPyY",
         "5",
         null,
         null,
         "Pelayanan yg baik,jadwal oprasi pun cepat,kebersihan yg baik"
        ],
        [
         "11",
         "RS Brayat Minulya",
         "https://www.google.com/maps/search/?api=1&query=RS%20Brayat%20Minulya&query_place_id=ChIJyazc9scXei4RSMD_Pq1tPyY",
         "5",
         null,
         null,
         "waktu saya asma dibawa ke igd dan sangatt kewren pelayanannya baik dokter maupun perawatnya🫰🏽😁"
        ],
        [
         "12",
         "RS Brayat Minulya",
         "https://www.google.com/maps/search/?api=1&query=RS%20Brayat%20Minulya&query_place_id=ChIJyazc9scXei4RSMD_Pq1tPyY",
         "5",
         null,
         null,
         null
        ],
        [
         "13",
         "RS Brayat Minulya",
         "https://www.google.com/maps/search/?api=1&query=RS%20Brayat%20Minulya&query_place_id=ChIJyazc9scXei4RSMD_Pq1tPyY",
         "5",
         null,
         null,
         "Ruang Theresia 101B an gabriela\nPelayanan baik, perawat tanggap dan ramah\nRs brayat semakin maju dan berkembang"
        ],
        [
         "14",
         "RS Brayat Minulya",
         "https://www.google.com/maps/search/?api=1&query=RS%20Brayat%20Minulya&query_place_id=ChIJyazc9scXei4RSMD_Pq1tPyY",
         "5",
         null,
         null,
         "Pelayanan baik,di ruang yosep"
        ],
        [
         "15",
         "RS Brayat Minulya",
         "https://www.google.com/maps/search/?api=1&query=RS%20Brayat%20Minulya&query_place_id=ChIJyazc9scXei4RSMD_Pq1tPyY",
         "5",
         null,
         null,
         "Kamar 101A pelayanan baik"
        ],
        [
         "16",
         "RS Brayat Minulya",
         "https://www.google.com/maps/search/?api=1&query=RS%20Brayat%20Minulya&query_place_id=ChIJyazc9scXei4RSMD_Pq1tPyY",
         "5",
         null,
         null,
         "puas dengan pelayanannya"
        ],
        [
         "17",
         "RS Brayat Minulya",
         "https://www.google.com/maps/search/?api=1&query=RS%20Brayat%20Minulya&query_place_id=ChIJyazc9scXei4RSMD_Pq1tPyY",
         "5",
         null,
         null,
         "Selamat siang crew personil dan team RS brayat. Saya sebagai pasien RS brayat minulya SANGAT PUAS dgn pelayanan RS brayat minulya. Mulai dari pak sopir ambulan dan teamnya. Krn saya kemaren saat kejadian di jemput oleh team ambulan RS brayat. Pak satpam RS brayat yg begitu ramah dan cepat dlm mengantarkan n menunjukkan ke ruang igd. Perawat dan dokter ruang UGD juga BAIK RAMAH SOPAN SIGAP DAN TANGGAP dlm memberikan pelayanan. Pelayanan dan tindakannya PAS dan TEPAT. Radiografer nya juga baik pelayanan raamah  cepat dan tepat. Lalu saya dirawat diruang maria pelayanan nya semua juga MEMUASKAN. untuk perawatnya team nya bintang ⭐5.  Untuk perawat ruang maria sangat bagus ramah tanggap cepat dalam pelayanan sigap dan tepat. Untuk ibu kepala Ruangnya juga baik sangat detail dalam menjelaskan tentang ruang maria. Misal Jika ada apa2 untuk bantuan langsung disuruh mencet bel yg ada di kamar. Fasilitas ruangan bagus . Dokter HENRADEWI juga baik ramah sopan bagus tepat tindakannya. Saya byk mengucapkan terimakasih kepada RS BRAYAT MINULYA SURAKARTA YG TELAH BAIK DAN TEPAT dalam memberikan pelayanan dan baik semuanya untuk crew n team dan personil RS brayat minulya SURAKARTA.. Saya puas bintang⭐ 5.good job RS brayat. I love you so much.  Wisdom an excellent.. Brayat WAE.  Berkah dalem"
        ],
        [
         "18",
         "RS Brayat Minulya",
         "https://www.google.com/maps/search/?api=1&query=RS%20Brayat%20Minulya&query_place_id=ChIJyazc9scXei4RSMD_Pq1tPyY",
         "5",
         null,
         null,
         "pelayanan baik, perawat dan dokter ramah dan tanggap"
        ],
        [
         "19",
         "RS Brayat Minulya",
         "https://www.google.com/maps/search/?api=1&query=RS%20Brayat%20Minulya&query_place_id=ChIJyazc9scXei4RSMD_Pq1tPyY",
         "5",
         null,
         null,
         "Pelayanan baik, perawat ramah, ruangan bersih."
        ],
        [
         "20",
         "RS Brayat Minulya",
         "https://www.google.com/maps/search/?api=1&query=RS%20Brayat%20Minulya&query_place_id=ChIJyazc9scXei4RSMD_Pq1tPyY",
         "4",
         null,
         null,
         "Anak diruang teresia 109, pelayanan sangat nyaman danmemuaskan,"
        ],
        [
         "21",
         "RS Brayat Minulya",
         "https://www.google.com/maps/search/?api=1&query=RS%20Brayat%20Minulya&query_place_id=ChIJyazc9scXei4RSMD_Pq1tPyY",
         "5",
         null,
         null,
         "anak di ruang tresia 12b .\nuntuk pelayanan nya cukup baik\npenjelasan nya cukup baik"
        ],
        [
         "22",
         "RS Brayat Minulya",
         "https://www.google.com/maps/search/?api=1&query=RS%20Brayat%20Minulya&query_place_id=ChIJyazc9scXei4RSMD_Pq1tPyY",
         "5",
         null,
         null,
         "Pelayanan dari satpam bgs, pendftran bgs, dokter dan perawat jg bgs ,baik, sabar dan ontem sekali pencetbel"
        ],
        [
         "23",
         "RS Brayat Minulya",
         "https://www.google.com/maps/search/?api=1&query=RS%20Brayat%20Minulya&query_place_id=ChIJyazc9scXei4RSMD_Pq1tPyY",
         "2",
         null,
         null,
         "Antrian laboratoriumnya cepat, hanya petugasnya yang laki-laki kurang sopan dan tidak ramah. Semoga lebih baik lagi"
        ],
        [
         "24",
         "RS Brayat Minulya",
         "https://www.google.com/maps/search/?api=1&query=RS%20Brayat%20Minulya&query_place_id=ChIJyazc9scXei4RSMD_Pq1tPyY",
         "1",
         null,
         null,
         "dibagian pendaftaran salah terus dalam memberi informasi rujukan maupun antrian dokter"
        ],
        [
         "25",
         "RS Brayat Minulya",
         "https://www.google.com/maps/search/?api=1&query=RS%20Brayat%20Minulya&query_place_id=ChIJyazc9scXei4RSMD_Pq1tPyY",
         "1",
         null,
         null,
         null
        ],
        [
         "26",
         "RS Brayat Minulya",
         "https://www.google.com/maps/search/?api=1&query=RS%20Brayat%20Minulya&query_place_id=ChIJyazc9scXei4RSMD_Pq1tPyY",
         "5",
         null,
         null,
         "Saya merasa perawatan dan pengobatan di RS Brayat dilayani dengan sepenuh hati dengan dokter dokter serta perawat yang sabar dan cepat respon dengan segala keluhan pasien .sangat ramah dan murah senyum..thks RS Brayat suskes selalu .. terimakasih Bu beti dan semua dokter dan perawat.RS Brayat.jaya terus 🙏🙏🙏"
        ],
        [
         "27",
         "RS Brayat Minulya",
         "https://www.google.com/maps/search/?api=1&query=RS%20Brayat%20Minulya&query_place_id=ChIJyazc9scXei4RSMD_Pq1tPyY",
         "5",
         null,
         null,
         "pelayanan dan penanganan sangat baik, segala proses baik berobat maupun opname Terkhusus nya untuk Ruang Yosep\nsangat whort it. Tuhan Yesus memberkati"
        ],
        [
         "28",
         "RS Brayat Minulya",
         "https://www.google.com/maps/search/?api=1&query=RS%20Brayat%20Minulya&query_place_id=ChIJyazc9scXei4RSMD_Pq1tPyY",
         "5",
         null,
         null,
         "Sepengalaman saya, baik dari pelayanan serta fasilitas yang kami dapati sudah menemuhi syarat yang ada,\n\nTerimakasih dan sukses untuk seluruh  stackholder RS Brayat"
        ],
        [
         "29",
         "RS Brayat Minulya",
         "https://www.google.com/maps/search/?api=1&query=RS%20Brayat%20Minulya&query_place_id=ChIJyazc9scXei4RSMD_Pq1tPyY",
         "5",
         null,
         null,
         "ruang teresia 112d sangat ramah sekali"
        ],
        [
         "30",
         "RS Brayat Minulya",
         "https://www.google.com/maps/search/?api=1&query=RS%20Brayat%20Minulya&query_place_id=ChIJyazc9scXei4RSMD_Pq1tPyY",
         "5",
         null,
         null,
         "Pelayanan cepat dan ramah"
        ],
        [
         "31",
         "RS Brayat Minulya",
         "https://www.google.com/maps/search/?api=1&query=RS%20Brayat%20Minulya&query_place_id=ChIJyazc9scXei4RSMD_Pq1tPyY",
         "5",
         null,
         null,
         "Pelayanannya sangat baik, Perawat dokter melayani dengan baik.\nRuang Kamar Maria B 314 nyaman, aman bersih, makan minum pun juga baik. Terimakasih Semoga Tuhan selalu Memberkati."
        ],
        [
         "32",
         "RS Brayat Minulya",
         "https://www.google.com/maps/search/?api=1&query=RS%20Brayat%20Minulya&query_place_id=ChIJyazc9scXei4RSMD_Pq1tPyY",
         "5",
         null,
         null,
         "Pelayanan di ruang yoseph sangat ramah dan cekatan,semoga RSBM semakin sukses kedepannya,dan menjadi Rumah Sakit yg selalu dicintai warga solo dan sekitarnya🙏🏻🙏🏻"
        ],
        [
         "33",
         "RS Brayat Minulya",
         "https://www.google.com/maps/search/?api=1&query=RS%20Brayat%20Minulya&query_place_id=ChIJyazc9scXei4RSMD_Pq1tPyY",
         "5",
         null,
         null,
         "Trimakasih saya bpk Jumadi  sudah di rawat di ruang Yosep dengan baik dan ramah"
        ],
        [
         "34",
         "RS Brayat Minulya",
         "https://www.google.com/maps/search/?api=1&query=RS%20Brayat%20Minulya&query_place_id=ChIJyazc9scXei4RSMD_Pq1tPyY",
         "5",
         null,
         null,
         "Trimaksih atas pelayanan di ruang yosep perawat dan dokter ramah dan baik yg sudah merawat suami saya bpk Kali, trimakasih"
        ],
        [
         "35",
         "RS Brayat Minulya",
         "https://www.google.com/maps/search/?api=1&query=RS%20Brayat%20Minulya&query_place_id=ChIJyazc9scXei4RSMD_Pq1tPyY",
         "5",
         null,
         null,
         "Trimakasih atas perawatan ibu saya ibu Sudarmi ,sdhdibrawat dengan baik di ruang Yosep"
        ],
        [
         "36",
         "RS Brayat Minulya",
         "https://www.google.com/maps/search/?api=1&query=RS%20Brayat%20Minulya&query_place_id=ChIJyazc9scXei4RSMD_Pq1tPyY",
         "5",
         null,
         null,
         "Perawatan di ruang yosep baik pelayanan cepat,trimakasih"
        ],
        [
         "37",
         "RS Brayat Minulya",
         "https://www.google.com/maps/search/?api=1&query=RS%20Brayat%20Minulya&query_place_id=ChIJyazc9scXei4RSMD_Pq1tPyY",
         "5",
         null,
         null,
         "Perawatan di ruang Yosep perawatnya dan dokter,petugas yang lain baik dan ramah,trimakasih"
        ],
        [
         "38",
         "RS Brayat Minulya",
         "https://www.google.com/maps/search/?api=1&query=RS%20Brayat%20Minulya&query_place_id=ChIJyazc9scXei4RSMD_Pq1tPyY",
         "5",
         null,
         null,
         "Trimakasih atas perawatan saat ini di ruang Yosep ,baik baik dokter dan perawat"
        ],
        [
         "39",
         "RS Brayat Minulya",
         "https://www.google.com/maps/search/?api=1&query=RS%20Brayat%20Minulya&query_place_id=ChIJyazc9scXei4RSMD_Pq1tPyY",
         "5",
         null,
         null,
         "Saya saat ini di rawat di ruang yosep..perawat,dokter dan petugas yang lain juga baik dan ramah,trimakasih"
        ],
        [
         "40",
         "RS Brayat Minulya",
         "https://www.google.com/maps/search/?api=1&query=RS%20Brayat%20Minulya&query_place_id=ChIJyazc9scXei4RSMD_Pq1tPyY",
         "5",
         null,
         null,
         "Trimakasih atas perawatan di ruang yosep..baik dan ramah semua petugas"
        ],
        [
         "41",
         "RS Brayat Minulya",
         "https://www.google.com/maps/search/?api=1&query=RS%20Brayat%20Minulya&query_place_id=ChIJyazc9scXei4RSMD_Pq1tPyY",
         "5",
         null,
         null,
         null
        ],
        [
         "42",
         "RS Brayat Minulya",
         "https://www.google.com/maps/search/?api=1&query=RS%20Brayat%20Minulya&query_place_id=ChIJyazc9scXei4RSMD_Pq1tPyY",
         "5",
         null,
         null,
         null
        ],
        [
         "43",
         "RS Brayat Minulya",
         "https://www.google.com/maps/search/?api=1&query=RS%20Brayat%20Minulya&query_place_id=ChIJyazc9scXei4RSMD_Pq1tPyY",
         "5",
         null,
         null,
         null
        ],
        [
         "44",
         "RS Brayat Minulya",
         "https://www.google.com/maps/search/?api=1&query=RS%20Brayat%20Minulya&query_place_id=ChIJyazc9scXei4RSMD_Pq1tPyY",
         "5",
         null,
         null,
         "Perawatan nya baik"
        ],
        [
         "45",
         "RS Brayat Minulya",
         "https://www.google.com/maps/search/?api=1&query=RS%20Brayat%20Minulya&query_place_id=ChIJyazc9scXei4RSMD_Pq1tPyY",
         "5",
         null,
         null,
         "Good Job\nTheresia 112A"
        ],
        [
         "46",
         "RS Brayat Minulya",
         "https://www.google.com/maps/search/?api=1&query=RS%20Brayat%20Minulya&query_place_id=ChIJyazc9scXei4RSMD_Pq1tPyY",
         "5",
         null,
         null,
         "Anak saya dirawat di ruang Theresia oleh dr Pudjiastuti SPA, penjelasan dari dokter sangat jelas, perawatnya ramah2, ruangan bersih dan nyaman, terimakasih RS Brayat Minulya"
        ],
        [
         "47",
         "RS Brayat Minulya",
         "https://www.google.com/maps/search/?api=1&query=RS%20Brayat%20Minulya&query_place_id=ChIJyazc9scXei4RSMD_Pq1tPyY",
         "5",
         null,
         null,
         null
        ],
        [
         "48",
         "RS Brayat Minulya",
         "https://www.google.com/maps/search/?api=1&query=RS%20Brayat%20Minulya&query_place_id=ChIJyazc9scXei4RSMD_Pq1tPyY",
         "5",
         null,
         null,
         null
        ],
        [
         "49",
         "RS Brayat Minulya",
         "https://www.google.com/maps/search/?api=1&query=RS%20Brayat%20Minulya&query_place_id=ChIJyazc9scXei4RSMD_Pq1tPyY",
         "5",
         null,
         null,
         "Terimakasih dokter.Suwardi, dan perawat  Poli,IBS,dan perawat di Ruang Theresia yg sudah baik dan sabar dalam  merawat anak saya Evano Gibran Radika,semoga selalu di beri kesahatan dan keberkahan dalam pelayanan,Sukses dan maju terus RS.Brayat Minulya"
        ]
       ],
       "shape": {
        "columns": 6,
        "rows": 11050
       }
      },
      "text/html": [
       "<div>\n",
       "<style scoped>\n",
       "    .dataframe tbody tr th:only-of-type {\n",
       "        vertical-align: middle;\n",
       "    }\n",
       "\n",
       "    .dataframe tbody tr th {\n",
       "        vertical-align: top;\n",
       "    }\n",
       "\n",
       "    .dataframe thead th {\n",
       "        text-align: right;\n",
       "    }\n",
       "</style>\n",
       "<table border=\"1\" class=\"dataframe\">\n",
       "  <thead>\n",
       "    <tr style=\"text-align: right;\">\n",
       "      <th></th>\n",
       "      <th>title</th>\n",
       "      <th>url</th>\n",
       "      <th>stars</th>\n",
       "      <th>name</th>\n",
       "      <th>reviewUrl</th>\n",
       "      <th>text</th>\n",
       "    </tr>\n",
       "  </thead>\n",
       "  <tbody>\n",
       "    <tr>\n",
       "      <th>0</th>\n",
       "      <td>RS Brayat Minulya</td>\n",
       "      <td>https://www.google.com/maps/search/?api=1&amp;quer...</td>\n",
       "      <td>5</td>\n",
       "      <td>NaN</td>\n",
       "      <td>NaN</td>\n",
       "      <td>Was admitted here for a few days in Maria 3 wa...</td>\n",
       "    </tr>\n",
       "    <tr>\n",
       "      <th>1</th>\n",
       "      <td>RS Brayat Minulya</td>\n",
       "      <td>https://www.google.com/maps/search/?api=1&amp;quer...</td>\n",
       "      <td>5</td>\n",
       "      <td>NaN</td>\n",
       "      <td>NaN</td>\n",
       "      <td>Bersih dan rapi\\nPetugas peeawat,dokter ditany...</td>\n",
       "    </tr>\n",
       "    <tr>\n",
       "      <th>2</th>\n",
       "      <td>RS Brayat Minulya</td>\n",
       "      <td>https://www.google.com/maps/search/?api=1&amp;quer...</td>\n",
       "      <td>5</td>\n",
       "      <td>NaN</td>\n",
       "      <td>NaN</td>\n",
       "      <td>Terimakasih atas pelayanan dan perawatan ibu s...</td>\n",
       "    </tr>\n",
       "    <tr>\n",
       "      <th>3</th>\n",
       "      <td>RS Brayat Minulya</td>\n",
       "      <td>https://www.google.com/maps/search/?api=1&amp;quer...</td>\n",
       "      <td>5</td>\n",
       "      <td>NaN</td>\n",
       "      <td>NaN</td>\n",
       "      <td>Pelayanan diruang Yosef bagus. Perawat ramah r...</td>\n",
       "    </tr>\n",
       "    <tr>\n",
       "      <th>4</th>\n",
       "      <td>RS Brayat Minulya</td>\n",
       "      <td>https://www.google.com/maps/search/?api=1&amp;quer...</td>\n",
       "      <td>5</td>\n",
       "      <td>NaN</td>\n",
       "      <td>NaN</td>\n",
       "      <td>Tempatnya bagus,rapi , nyaman sekali ruangan n...</td>\n",
       "    </tr>\n",
       "    <tr>\n",
       "      <th>...</th>\n",
       "      <td>...</td>\n",
       "      <td>...</td>\n",
       "      <td>...</td>\n",
       "      <td>...</td>\n",
       "      <td>...</td>\n",
       "      <td>...</td>\n",
       "    </tr>\n",
       "    <tr>\n",
       "      <th>11045</th>\n",
       "      <td>Rumah Sakit Umum Pusat Surakarta</td>\n",
       "      <td>https://www.google.com/maps/search/?api=1&amp;quer...</td>\n",
       "      <td>4</td>\n",
       "      <td>NaN</td>\n",
       "      <td>NaN</td>\n",
       "      <td>NaN</td>\n",
       "    </tr>\n",
       "    <tr>\n",
       "      <th>11046</th>\n",
       "      <td>Rumah Sakit Umum Pusat Surakarta</td>\n",
       "      <td>https://www.google.com/maps/search/?api=1&amp;quer...</td>\n",
       "      <td>4</td>\n",
       "      <td>NaN</td>\n",
       "      <td>NaN</td>\n",
       "      <td>NaN</td>\n",
       "    </tr>\n",
       "    <tr>\n",
       "      <th>11047</th>\n",
       "      <td>Rumah Sakit Umum Pusat Surakarta</td>\n",
       "      <td>https://www.google.com/maps/search/?api=1&amp;quer...</td>\n",
       "      <td>4</td>\n",
       "      <td>NaN</td>\n",
       "      <td>NaN</td>\n",
       "      <td>NaN</td>\n",
       "    </tr>\n",
       "    <tr>\n",
       "      <th>11048</th>\n",
       "      <td>Rumah Sakit Umum Pusat Surakarta</td>\n",
       "      <td>https://www.google.com/maps/search/?api=1&amp;quer...</td>\n",
       "      <td>5</td>\n",
       "      <td>NaN</td>\n",
       "      <td>NaN</td>\n",
       "      <td>RS Paru</td>\n",
       "    </tr>\n",
       "    <tr>\n",
       "      <th>11049</th>\n",
       "      <td>Rumah Sakit Umum Pusat Surakarta</td>\n",
       "      <td>https://www.google.com/maps/search/?api=1&amp;quer...</td>\n",
       "      <td>5</td>\n",
       "      <td>NaN</td>\n",
       "      <td>NaN</td>\n",
       "      <td>Rumah sakit untuk menangani penyakit paru dan ...</td>\n",
       "    </tr>\n",
       "  </tbody>\n",
       "</table>\n",
       "<p>11050 rows × 6 columns</p>\n",
       "</div>"
      ],
      "text/plain": [
       "                                  title  \\\n",
       "0                     RS Brayat Minulya   \n",
       "1                     RS Brayat Minulya   \n",
       "2                     RS Brayat Minulya   \n",
       "3                     RS Brayat Minulya   \n",
       "4                     RS Brayat Minulya   \n",
       "...                                 ...   \n",
       "11045  Rumah Sakit Umum Pusat Surakarta   \n",
       "11046  Rumah Sakit Umum Pusat Surakarta   \n",
       "11047  Rumah Sakit Umum Pusat Surakarta   \n",
       "11048  Rumah Sakit Umum Pusat Surakarta   \n",
       "11049  Rumah Sakit Umum Pusat Surakarta   \n",
       "\n",
       "                                                     url  stars  name  \\\n",
       "0      https://www.google.com/maps/search/?api=1&quer...      5   NaN   \n",
       "1      https://www.google.com/maps/search/?api=1&quer...      5   NaN   \n",
       "2      https://www.google.com/maps/search/?api=1&quer...      5   NaN   \n",
       "3      https://www.google.com/maps/search/?api=1&quer...      5   NaN   \n",
       "4      https://www.google.com/maps/search/?api=1&quer...      5   NaN   \n",
       "...                                                  ...    ...   ...   \n",
       "11045  https://www.google.com/maps/search/?api=1&quer...      4   NaN   \n",
       "11046  https://www.google.com/maps/search/?api=1&quer...      4   NaN   \n",
       "11047  https://www.google.com/maps/search/?api=1&quer...      4   NaN   \n",
       "11048  https://www.google.com/maps/search/?api=1&quer...      5   NaN   \n",
       "11049  https://www.google.com/maps/search/?api=1&quer...      5   NaN   \n",
       "\n",
       "       reviewUrl                                               text  \n",
       "0            NaN  Was admitted here for a few days in Maria 3 wa...  \n",
       "1            NaN  Bersih dan rapi\\nPetugas peeawat,dokter ditany...  \n",
       "2            NaN  Terimakasih atas pelayanan dan perawatan ibu s...  \n",
       "3            NaN  Pelayanan diruang Yosef bagus. Perawat ramah r...  \n",
       "4            NaN  Tempatnya bagus,rapi , nyaman sekali ruangan n...  \n",
       "...          ...                                                ...  \n",
       "11045        NaN                                                NaN  \n",
       "11046        NaN                                                NaN  \n",
       "11047        NaN                                                NaN  \n",
       "11048        NaN                                            RS Paru  \n",
       "11049        NaN  Rumah sakit untuk menangani penyakit paru dan ...  \n",
       "\n",
       "[11050 rows x 6 columns]"
      ]
     },
     "execution_count": 4,
     "metadata": {},
     "output_type": "execute_result"
    }
   ],
   "source": [
    "data"
   ]
  },
  {
   "cell_type": "code",
   "execution_count": 5,
   "id": "83522acc",
   "metadata": {},
   "outputs": [
    {
     "data": {
      "text/plain": [
       "np.int64(3378)"
      ]
     },
     "execution_count": 5,
     "metadata": {},
     "output_type": "execute_result"
    }
   ],
   "source": [
    "# cek missing value\n",
    "data['text'].isna().sum()"
   ]
  },
  {
   "cell_type": "code",
   "execution_count": 6,
   "id": "5ee5e2ed",
   "metadata": {},
   "outputs": [],
   "source": [
    "# hapus text kosong\n",
    "data = data.dropna(subset=['text'])"
   ]
  },
  {
   "cell_type": "code",
   "execution_count": 7,
   "id": "673949d4",
   "metadata": {},
   "outputs": [
    {
     "data": {
      "application/vnd.microsoft.datawrangler.viewer.v0+json": {
       "columns": [
        {
         "name": "index",
         "rawType": "int64",
         "type": "integer"
        },
        {
         "name": "title",
         "rawType": "object",
         "type": "string"
        },
        {
         "name": "url",
         "rawType": "object",
         "type": "string"
        },
        {
         "name": "stars",
         "rawType": "int64",
         "type": "integer"
        },
        {
         "name": "name",
         "rawType": "float64",
         "type": "float"
        },
        {
         "name": "reviewUrl",
         "rawType": "float64",
         "type": "float"
        },
        {
         "name": "text",
         "rawType": "object",
         "type": "string"
        }
       ],
       "ref": "7595182a-3773-4c71-8e3e-ff8b16b9c511",
       "rows": [
        [
         "0",
         "RS Brayat Minulya",
         "https://www.google.com/maps/search/?api=1&query=RS%20Brayat%20Minulya&query_place_id=ChIJyazc9scXei4RSMD_Pq1tPyY",
         "5",
         null,
         null,
         "Was admitted here for a few days in Maria 3 ward. During that time, the staffs, both medical and non medical, were so kind and helpful. The room were also clean as well. Thank you so much for helping me getting better those past few days. Hope you guys will keep up the good work."
        ],
        [
         "1",
         "RS Brayat Minulya",
         "https://www.google.com/maps/search/?api=1&query=RS%20Brayat%20Minulya&query_place_id=ChIJyazc9scXei4RSMD_Pq1tPyY",
         "5",
         null,
         null,
         "Bersih dan rapi\nPetugas peeawat,dokter ditanya tanya enak jawabnya dan sangat ramah"
        ],
        [
         "2",
         "RS Brayat Minulya",
         "https://www.google.com/maps/search/?api=1&query=RS%20Brayat%20Minulya&query_place_id=ChIJyazc9scXei4RSMD_Pq1tPyY",
         "5",
         null,
         null,
         "Terimakasih atas pelayanan dan perawatan ibu saya,tak lupa semua perawat suster Ruang Yosep sdh sabar dan pelayannya,siip jaga terus kredibilitas pelayan yg lbh baik"
        ],
        [
         "3",
         "RS Brayat Minulya",
         "https://www.google.com/maps/search/?api=1&query=RS%20Brayat%20Minulya&query_place_id=ChIJyazc9scXei4RSMD_Pq1tPyY",
         "5",
         null,
         null,
         "Pelayanan diruang Yosef bagus. Perawat ramah ramah. Sopan."
        ],
        [
         "4",
         "RS Brayat Minulya",
         "https://www.google.com/maps/search/?api=1&query=RS%20Brayat%20Minulya&query_place_id=ChIJyazc9scXei4RSMD_Pq1tPyY",
         "5",
         null,
         null,
         "Tempatnya bagus,rapi , nyaman sekali ruangan nya🙏 terimakasih RS brayat minulnya berkat suster \" yang baik dan sabar ayah saya jadi sembuh🥰🥰🥰"
        ],
        [
         "5",
         "RS Brayat Minulya",
         "https://www.google.com/maps/search/?api=1&query=RS%20Brayat%20Minulya&query_place_id=ChIJyazc9scXei4RSMD_Pq1tPyY",
         "5",
         null,
         null,
         "Mantap....\nPelayanan maximal...\nTerimakasih banyak untuk ruang maria yg telah merawat ku dengan sepenuh hati... Senantiasa cinta kasih Tuhan melingkupi kita semua... Amin"
        ],
        [
         "6",
         "RS Brayat Minulya",
         "https://www.google.com/maps/search/?api=1&query=RS%20Brayat%20Minulya&query_place_id=ChIJyazc9scXei4RSMD_Pq1tPyY",
         "5",
         null,
         null,
         "Perawat Ruang Maria ramah, pelayanan baik dan responsif.\nBravo!"
        ],
        [
         "7",
         "RS Brayat Minulya",
         "https://www.google.com/maps/search/?api=1&query=RS%20Brayat%20Minulya&query_place_id=ChIJyazc9scXei4RSMD_Pq1tPyY",
         "5",
         null,
         null,
         "Ruang yosep, perawatannya baik,respon cepat,ramah , trimakasih sudah di rawat"
        ],
        [
         "8",
         "RS Brayat Minulya",
         "https://www.google.com/maps/search/?api=1&query=RS%20Brayat%20Minulya&query_place_id=ChIJyazc9scXei4RSMD_Pq1tPyY",
         "5",
         null,
         null,
         "Ruang Yoseph Pelayanan bagus, ramah dan responnya cepat.\nTerima kasih RS. Brayat M."
        ],
        [
         "9",
         "RS Brayat Minulya",
         "https://www.google.com/maps/search/?api=1&query=RS%20Brayat%20Minulya&query_place_id=ChIJyazc9scXei4RSMD_Pq1tPyY",
         "5",
         null,
         null,
         "Berobat di RS brayat.. Pelayanan memuaskan.. Ramah"
        ],
        [
         "10",
         "RS Brayat Minulya",
         "https://www.google.com/maps/search/?api=1&query=RS%20Brayat%20Minulya&query_place_id=ChIJyazc9scXei4RSMD_Pq1tPyY",
         "5",
         null,
         null,
         "Pelayanan yg baik,jadwal oprasi pun cepat,kebersihan yg baik"
        ],
        [
         "11",
         "RS Brayat Minulya",
         "https://www.google.com/maps/search/?api=1&query=RS%20Brayat%20Minulya&query_place_id=ChIJyazc9scXei4RSMD_Pq1tPyY",
         "5",
         null,
         null,
         "waktu saya asma dibawa ke igd dan sangatt kewren pelayanannya baik dokter maupun perawatnya🫰🏽😁"
        ],
        [
         "13",
         "RS Brayat Minulya",
         "https://www.google.com/maps/search/?api=1&query=RS%20Brayat%20Minulya&query_place_id=ChIJyazc9scXei4RSMD_Pq1tPyY",
         "5",
         null,
         null,
         "Ruang Theresia 101B an gabriela\nPelayanan baik, perawat tanggap dan ramah\nRs brayat semakin maju dan berkembang"
        ],
        [
         "14",
         "RS Brayat Minulya",
         "https://www.google.com/maps/search/?api=1&query=RS%20Brayat%20Minulya&query_place_id=ChIJyazc9scXei4RSMD_Pq1tPyY",
         "5",
         null,
         null,
         "Pelayanan baik,di ruang yosep"
        ],
        [
         "15",
         "RS Brayat Minulya",
         "https://www.google.com/maps/search/?api=1&query=RS%20Brayat%20Minulya&query_place_id=ChIJyazc9scXei4RSMD_Pq1tPyY",
         "5",
         null,
         null,
         "Kamar 101A pelayanan baik"
        ],
        [
         "16",
         "RS Brayat Minulya",
         "https://www.google.com/maps/search/?api=1&query=RS%20Brayat%20Minulya&query_place_id=ChIJyazc9scXei4RSMD_Pq1tPyY",
         "5",
         null,
         null,
         "puas dengan pelayanannya"
        ],
        [
         "17",
         "RS Brayat Minulya",
         "https://www.google.com/maps/search/?api=1&query=RS%20Brayat%20Minulya&query_place_id=ChIJyazc9scXei4RSMD_Pq1tPyY",
         "5",
         null,
         null,
         "Selamat siang crew personil dan team RS brayat. Saya sebagai pasien RS brayat minulya SANGAT PUAS dgn pelayanan RS brayat minulya. Mulai dari pak sopir ambulan dan teamnya. Krn saya kemaren saat kejadian di jemput oleh team ambulan RS brayat. Pak satpam RS brayat yg begitu ramah dan cepat dlm mengantarkan n menunjukkan ke ruang igd. Perawat dan dokter ruang UGD juga BAIK RAMAH SOPAN SIGAP DAN TANGGAP dlm memberikan pelayanan. Pelayanan dan tindakannya PAS dan TEPAT. Radiografer nya juga baik pelayanan raamah  cepat dan tepat. Lalu saya dirawat diruang maria pelayanan nya semua juga MEMUASKAN. untuk perawatnya team nya bintang ⭐5.  Untuk perawat ruang maria sangat bagus ramah tanggap cepat dalam pelayanan sigap dan tepat. Untuk ibu kepala Ruangnya juga baik sangat detail dalam menjelaskan tentang ruang maria. Misal Jika ada apa2 untuk bantuan langsung disuruh mencet bel yg ada di kamar. Fasilitas ruangan bagus . Dokter HENRADEWI juga baik ramah sopan bagus tepat tindakannya. Saya byk mengucapkan terimakasih kepada RS BRAYAT MINULYA SURAKARTA YG TELAH BAIK DAN TEPAT dalam memberikan pelayanan dan baik semuanya untuk crew n team dan personil RS brayat minulya SURAKARTA.. Saya puas bintang⭐ 5.good job RS brayat. I love you so much.  Wisdom an excellent.. Brayat WAE.  Berkah dalem"
        ],
        [
         "18",
         "RS Brayat Minulya",
         "https://www.google.com/maps/search/?api=1&query=RS%20Brayat%20Minulya&query_place_id=ChIJyazc9scXei4RSMD_Pq1tPyY",
         "5",
         null,
         null,
         "pelayanan baik, perawat dan dokter ramah dan tanggap"
        ],
        [
         "19",
         "RS Brayat Minulya",
         "https://www.google.com/maps/search/?api=1&query=RS%20Brayat%20Minulya&query_place_id=ChIJyazc9scXei4RSMD_Pq1tPyY",
         "5",
         null,
         null,
         "Pelayanan baik, perawat ramah, ruangan bersih."
        ],
        [
         "20",
         "RS Brayat Minulya",
         "https://www.google.com/maps/search/?api=1&query=RS%20Brayat%20Minulya&query_place_id=ChIJyazc9scXei4RSMD_Pq1tPyY",
         "4",
         null,
         null,
         "Anak diruang teresia 109, pelayanan sangat nyaman danmemuaskan,"
        ],
        [
         "21",
         "RS Brayat Minulya",
         "https://www.google.com/maps/search/?api=1&query=RS%20Brayat%20Minulya&query_place_id=ChIJyazc9scXei4RSMD_Pq1tPyY",
         "5",
         null,
         null,
         "anak di ruang tresia 12b .\nuntuk pelayanan nya cukup baik\npenjelasan nya cukup baik"
        ],
        [
         "22",
         "RS Brayat Minulya",
         "https://www.google.com/maps/search/?api=1&query=RS%20Brayat%20Minulya&query_place_id=ChIJyazc9scXei4RSMD_Pq1tPyY",
         "5",
         null,
         null,
         "Pelayanan dari satpam bgs, pendftran bgs, dokter dan perawat jg bgs ,baik, sabar dan ontem sekali pencetbel"
        ],
        [
         "23",
         "RS Brayat Minulya",
         "https://www.google.com/maps/search/?api=1&query=RS%20Brayat%20Minulya&query_place_id=ChIJyazc9scXei4RSMD_Pq1tPyY",
         "2",
         null,
         null,
         "Antrian laboratoriumnya cepat, hanya petugasnya yang laki-laki kurang sopan dan tidak ramah. Semoga lebih baik lagi"
        ],
        [
         "24",
         "RS Brayat Minulya",
         "https://www.google.com/maps/search/?api=1&query=RS%20Brayat%20Minulya&query_place_id=ChIJyazc9scXei4RSMD_Pq1tPyY",
         "1",
         null,
         null,
         "dibagian pendaftaran salah terus dalam memberi informasi rujukan maupun antrian dokter"
        ],
        [
         "26",
         "RS Brayat Minulya",
         "https://www.google.com/maps/search/?api=1&query=RS%20Brayat%20Minulya&query_place_id=ChIJyazc9scXei4RSMD_Pq1tPyY",
         "5",
         null,
         null,
         "Saya merasa perawatan dan pengobatan di RS Brayat dilayani dengan sepenuh hati dengan dokter dokter serta perawat yang sabar dan cepat respon dengan segala keluhan pasien .sangat ramah dan murah senyum..thks RS Brayat suskes selalu .. terimakasih Bu beti dan semua dokter dan perawat.RS Brayat.jaya terus 🙏🙏🙏"
        ],
        [
         "27",
         "RS Brayat Minulya",
         "https://www.google.com/maps/search/?api=1&query=RS%20Brayat%20Minulya&query_place_id=ChIJyazc9scXei4RSMD_Pq1tPyY",
         "5",
         null,
         null,
         "pelayanan dan penanganan sangat baik, segala proses baik berobat maupun opname Terkhusus nya untuk Ruang Yosep\nsangat whort it. Tuhan Yesus memberkati"
        ],
        [
         "28",
         "RS Brayat Minulya",
         "https://www.google.com/maps/search/?api=1&query=RS%20Brayat%20Minulya&query_place_id=ChIJyazc9scXei4RSMD_Pq1tPyY",
         "5",
         null,
         null,
         "Sepengalaman saya, baik dari pelayanan serta fasilitas yang kami dapati sudah menemuhi syarat yang ada,\n\nTerimakasih dan sukses untuk seluruh  stackholder RS Brayat"
        ],
        [
         "29",
         "RS Brayat Minulya",
         "https://www.google.com/maps/search/?api=1&query=RS%20Brayat%20Minulya&query_place_id=ChIJyazc9scXei4RSMD_Pq1tPyY",
         "5",
         null,
         null,
         "ruang teresia 112d sangat ramah sekali"
        ],
        [
         "30",
         "RS Brayat Minulya",
         "https://www.google.com/maps/search/?api=1&query=RS%20Brayat%20Minulya&query_place_id=ChIJyazc9scXei4RSMD_Pq1tPyY",
         "5",
         null,
         null,
         "Pelayanan cepat dan ramah"
        ],
        [
         "31",
         "RS Brayat Minulya",
         "https://www.google.com/maps/search/?api=1&query=RS%20Brayat%20Minulya&query_place_id=ChIJyazc9scXei4RSMD_Pq1tPyY",
         "5",
         null,
         null,
         "Pelayanannya sangat baik, Perawat dokter melayani dengan baik.\nRuang Kamar Maria B 314 nyaman, aman bersih, makan minum pun juga baik. Terimakasih Semoga Tuhan selalu Memberkati."
        ],
        [
         "32",
         "RS Brayat Minulya",
         "https://www.google.com/maps/search/?api=1&query=RS%20Brayat%20Minulya&query_place_id=ChIJyazc9scXei4RSMD_Pq1tPyY",
         "5",
         null,
         null,
         "Pelayanan di ruang yoseph sangat ramah dan cekatan,semoga RSBM semakin sukses kedepannya,dan menjadi Rumah Sakit yg selalu dicintai warga solo dan sekitarnya🙏🏻🙏🏻"
        ],
        [
         "33",
         "RS Brayat Minulya",
         "https://www.google.com/maps/search/?api=1&query=RS%20Brayat%20Minulya&query_place_id=ChIJyazc9scXei4RSMD_Pq1tPyY",
         "5",
         null,
         null,
         "Trimakasih saya bpk Jumadi  sudah di rawat di ruang Yosep dengan baik dan ramah"
        ],
        [
         "34",
         "RS Brayat Minulya",
         "https://www.google.com/maps/search/?api=1&query=RS%20Brayat%20Minulya&query_place_id=ChIJyazc9scXei4RSMD_Pq1tPyY",
         "5",
         null,
         null,
         "Trimaksih atas pelayanan di ruang yosep perawat dan dokter ramah dan baik yg sudah merawat suami saya bpk Kali, trimakasih"
        ],
        [
         "35",
         "RS Brayat Minulya",
         "https://www.google.com/maps/search/?api=1&query=RS%20Brayat%20Minulya&query_place_id=ChIJyazc9scXei4RSMD_Pq1tPyY",
         "5",
         null,
         null,
         "Trimakasih atas perawatan ibu saya ibu Sudarmi ,sdhdibrawat dengan baik di ruang Yosep"
        ],
        [
         "36",
         "RS Brayat Minulya",
         "https://www.google.com/maps/search/?api=1&query=RS%20Brayat%20Minulya&query_place_id=ChIJyazc9scXei4RSMD_Pq1tPyY",
         "5",
         null,
         null,
         "Perawatan di ruang yosep baik pelayanan cepat,trimakasih"
        ],
        [
         "37",
         "RS Brayat Minulya",
         "https://www.google.com/maps/search/?api=1&query=RS%20Brayat%20Minulya&query_place_id=ChIJyazc9scXei4RSMD_Pq1tPyY",
         "5",
         null,
         null,
         "Perawatan di ruang Yosep perawatnya dan dokter,petugas yang lain baik dan ramah,trimakasih"
        ],
        [
         "38",
         "RS Brayat Minulya",
         "https://www.google.com/maps/search/?api=1&query=RS%20Brayat%20Minulya&query_place_id=ChIJyazc9scXei4RSMD_Pq1tPyY",
         "5",
         null,
         null,
         "Trimakasih atas perawatan saat ini di ruang Yosep ,baik baik dokter dan perawat"
        ],
        [
         "39",
         "RS Brayat Minulya",
         "https://www.google.com/maps/search/?api=1&query=RS%20Brayat%20Minulya&query_place_id=ChIJyazc9scXei4RSMD_Pq1tPyY",
         "5",
         null,
         null,
         "Saya saat ini di rawat di ruang yosep..perawat,dokter dan petugas yang lain juga baik dan ramah,trimakasih"
        ],
        [
         "40",
         "RS Brayat Minulya",
         "https://www.google.com/maps/search/?api=1&query=RS%20Brayat%20Minulya&query_place_id=ChIJyazc9scXei4RSMD_Pq1tPyY",
         "5",
         null,
         null,
         "Trimakasih atas perawatan di ruang yosep..baik dan ramah semua petugas"
        ],
        [
         "44",
         "RS Brayat Minulya",
         "https://www.google.com/maps/search/?api=1&query=RS%20Brayat%20Minulya&query_place_id=ChIJyazc9scXei4RSMD_Pq1tPyY",
         "5",
         null,
         null,
         "Perawatan nya baik"
        ],
        [
         "45",
         "RS Brayat Minulya",
         "https://www.google.com/maps/search/?api=1&query=RS%20Brayat%20Minulya&query_place_id=ChIJyazc9scXei4RSMD_Pq1tPyY",
         "5",
         null,
         null,
         "Good Job\nTheresia 112A"
        ],
        [
         "46",
         "RS Brayat Minulya",
         "https://www.google.com/maps/search/?api=1&query=RS%20Brayat%20Minulya&query_place_id=ChIJyazc9scXei4RSMD_Pq1tPyY",
         "5",
         null,
         null,
         "Anak saya dirawat di ruang Theresia oleh dr Pudjiastuti SPA, penjelasan dari dokter sangat jelas, perawatnya ramah2, ruangan bersih dan nyaman, terimakasih RS Brayat Minulya"
        ],
        [
         "49",
         "RS Brayat Minulya",
         "https://www.google.com/maps/search/?api=1&query=RS%20Brayat%20Minulya&query_place_id=ChIJyazc9scXei4RSMD_Pq1tPyY",
         "5",
         null,
         null,
         "Terimakasih dokter.Suwardi, dan perawat  Poli,IBS,dan perawat di Ruang Theresia yg sudah baik dan sabar dalam  merawat anak saya Evano Gibran Radika,semoga selalu di beri kesahatan dan keberkahan dalam pelayanan,Sukses dan maju terus RS.Brayat Minulya"
        ],
        [
         "50",
         "RS Brayat Minulya",
         "https://www.google.com/maps/search/?api=1&query=RS%20Brayat%20Minulya&query_place_id=ChIJyazc9scXei4RSMD_Pq1tPyY",
         "5",
         null,
         null,
         "Pelayanan baik bagus sekali"
        ],
        [
         "51",
         "RS Brayat Minulya",
         "https://www.google.com/maps/search/?api=1&query=RS%20Brayat%20Minulya&query_place_id=ChIJyazc9scXei4RSMD_Pq1tPyY",
         "5",
         null,
         null,
         "Pelayanan baik dan sangat ramah"
        ],
        [
         "52",
         "RS Brayat Minulya",
         "https://www.google.com/maps/search/?api=1&query=RS%20Brayat%20Minulya&query_place_id=ChIJyazc9scXei4RSMD_Pq1tPyY",
         "5",
         null,
         null,
         "Pelayanan cepat,perhatian dan santun"
        ],
        [
         "53",
         "RS Brayat Minulya",
         "https://www.google.com/maps/search/?api=1&query=RS%20Brayat%20Minulya&query_place_id=ChIJyazc9scXei4RSMD_Pq1tPyY",
         "5",
         null,
         null,
         "Pelayanan sangat puas."
        ],
        [
         "54",
         "RS Brayat Minulya",
         "https://www.google.com/maps/search/?api=1&query=RS%20Brayat%20Minulya&query_place_id=ChIJyazc9scXei4RSMD_Pq1tPyY",
         "5",
         null,
         null,
         "Anak sy dirawat bbrp hari lalu krn demam ,trombosit turun. Dari awal datang sampe pulang tidak ada kendala sama sekali dan pelayanan ke pasien jg baik meskipun kami memakai bpjs.  Sip lah."
        ],
        [
         "55",
         "RS Brayat Minulya",
         "https://www.google.com/maps/search/?api=1&query=RS%20Brayat%20Minulya&query_place_id=ChIJyazc9scXei4RSMD_Pq1tPyY",
         "5",
         null,
         null,
         "pelayanan dirumah sakit Brayat minulya ruang Theresia kelas 3 no 112 sangat baik perawatnya ramah ramah ,jaya terus Brayat minulya"
        ],
        [
         "56",
         "RS Brayat Minulya",
         "https://www.google.com/maps/search/?api=1&query=RS%20Brayat%20Minulya&query_place_id=ChIJyazc9scXei4RSMD_Pq1tPyY",
         "5",
         null,
         null,
         "Ramah baik memuaskan theresia kamar 104"
        ]
       ],
       "shape": {
        "columns": 6,
        "rows": 7672
       }
      },
      "text/html": [
       "<div>\n",
       "<style scoped>\n",
       "    .dataframe tbody tr th:only-of-type {\n",
       "        vertical-align: middle;\n",
       "    }\n",
       "\n",
       "    .dataframe tbody tr th {\n",
       "        vertical-align: top;\n",
       "    }\n",
       "\n",
       "    .dataframe thead th {\n",
       "        text-align: right;\n",
       "    }\n",
       "</style>\n",
       "<table border=\"1\" class=\"dataframe\">\n",
       "  <thead>\n",
       "    <tr style=\"text-align: right;\">\n",
       "      <th></th>\n",
       "      <th>title</th>\n",
       "      <th>url</th>\n",
       "      <th>stars</th>\n",
       "      <th>name</th>\n",
       "      <th>reviewUrl</th>\n",
       "      <th>text</th>\n",
       "    </tr>\n",
       "  </thead>\n",
       "  <tbody>\n",
       "    <tr>\n",
       "      <th>0</th>\n",
       "      <td>RS Brayat Minulya</td>\n",
       "      <td>https://www.google.com/maps/search/?api=1&amp;quer...</td>\n",
       "      <td>5</td>\n",
       "      <td>NaN</td>\n",
       "      <td>NaN</td>\n",
       "      <td>Was admitted here for a few days in Maria 3 wa...</td>\n",
       "    </tr>\n",
       "    <tr>\n",
       "      <th>1</th>\n",
       "      <td>RS Brayat Minulya</td>\n",
       "      <td>https://www.google.com/maps/search/?api=1&amp;quer...</td>\n",
       "      <td>5</td>\n",
       "      <td>NaN</td>\n",
       "      <td>NaN</td>\n",
       "      <td>Bersih dan rapi\\nPetugas peeawat,dokter ditany...</td>\n",
       "    </tr>\n",
       "    <tr>\n",
       "      <th>2</th>\n",
       "      <td>RS Brayat Minulya</td>\n",
       "      <td>https://www.google.com/maps/search/?api=1&amp;quer...</td>\n",
       "      <td>5</td>\n",
       "      <td>NaN</td>\n",
       "      <td>NaN</td>\n",
       "      <td>Terimakasih atas pelayanan dan perawatan ibu s...</td>\n",
       "    </tr>\n",
       "    <tr>\n",
       "      <th>3</th>\n",
       "      <td>RS Brayat Minulya</td>\n",
       "      <td>https://www.google.com/maps/search/?api=1&amp;quer...</td>\n",
       "      <td>5</td>\n",
       "      <td>NaN</td>\n",
       "      <td>NaN</td>\n",
       "      <td>Pelayanan diruang Yosef bagus. Perawat ramah r...</td>\n",
       "    </tr>\n",
       "    <tr>\n",
       "      <th>4</th>\n",
       "      <td>RS Brayat Minulya</td>\n",
       "      <td>https://www.google.com/maps/search/?api=1&amp;quer...</td>\n",
       "      <td>5</td>\n",
       "      <td>NaN</td>\n",
       "      <td>NaN</td>\n",
       "      <td>Tempatnya bagus,rapi , nyaman sekali ruangan n...</td>\n",
       "    </tr>\n",
       "    <tr>\n",
       "      <th>...</th>\n",
       "      <td>...</td>\n",
       "      <td>...</td>\n",
       "      <td>...</td>\n",
       "      <td>...</td>\n",
       "      <td>...</td>\n",
       "      <td>...</td>\n",
       "    </tr>\n",
       "    <tr>\n",
       "      <th>11040</th>\n",
       "      <td>Rumah Sakit Umum Pusat Surakarta</td>\n",
       "      <td>https://www.google.com/maps/search/?api=1&amp;quer...</td>\n",
       "      <td>4</td>\n",
       "      <td>NaN</td>\n",
       "      <td>NaN</td>\n",
       "      <td>Hospital yg sangat rapi. Pelayanan bagus</td>\n",
       "    </tr>\n",
       "    <tr>\n",
       "      <th>11042</th>\n",
       "      <td>Rumah Sakit Umum Pusat Surakarta</td>\n",
       "      <td>https://www.google.com/maps/search/?api=1&amp;quer...</td>\n",
       "      <td>4</td>\n",
       "      <td>NaN</td>\n",
       "      <td>NaN</td>\n",
       "      <td>Khusus Paru.</td>\n",
       "    </tr>\n",
       "    <tr>\n",
       "      <th>11043</th>\n",
       "      <td>Rumah Sakit Umum Pusat Surakarta</td>\n",
       "      <td>https://www.google.com/maps/search/?api=1&amp;quer...</td>\n",
       "      <td>4</td>\n",
       "      <td>NaN</td>\n",
       "      <td>NaN</td>\n",
       "      <td>👌👍</td>\n",
       "    </tr>\n",
       "    <tr>\n",
       "      <th>11048</th>\n",
       "      <td>Rumah Sakit Umum Pusat Surakarta</td>\n",
       "      <td>https://www.google.com/maps/search/?api=1&amp;quer...</td>\n",
       "      <td>5</td>\n",
       "      <td>NaN</td>\n",
       "      <td>NaN</td>\n",
       "      <td>RS Paru</td>\n",
       "    </tr>\n",
       "    <tr>\n",
       "      <th>11049</th>\n",
       "      <td>Rumah Sakit Umum Pusat Surakarta</td>\n",
       "      <td>https://www.google.com/maps/search/?api=1&amp;quer...</td>\n",
       "      <td>5</td>\n",
       "      <td>NaN</td>\n",
       "      <td>NaN</td>\n",
       "      <td>Rumah sakit untuk menangani penyakit paru dan ...</td>\n",
       "    </tr>\n",
       "  </tbody>\n",
       "</table>\n",
       "<p>7672 rows × 6 columns</p>\n",
       "</div>"
      ],
      "text/plain": [
       "                                  title  \\\n",
       "0                     RS Brayat Minulya   \n",
       "1                     RS Brayat Minulya   \n",
       "2                     RS Brayat Minulya   \n",
       "3                     RS Brayat Minulya   \n",
       "4                     RS Brayat Minulya   \n",
       "...                                 ...   \n",
       "11040  Rumah Sakit Umum Pusat Surakarta   \n",
       "11042  Rumah Sakit Umum Pusat Surakarta   \n",
       "11043  Rumah Sakit Umum Pusat Surakarta   \n",
       "11048  Rumah Sakit Umum Pusat Surakarta   \n",
       "11049  Rumah Sakit Umum Pusat Surakarta   \n",
       "\n",
       "                                                     url  stars  name  \\\n",
       "0      https://www.google.com/maps/search/?api=1&quer...      5   NaN   \n",
       "1      https://www.google.com/maps/search/?api=1&quer...      5   NaN   \n",
       "2      https://www.google.com/maps/search/?api=1&quer...      5   NaN   \n",
       "3      https://www.google.com/maps/search/?api=1&quer...      5   NaN   \n",
       "4      https://www.google.com/maps/search/?api=1&quer...      5   NaN   \n",
       "...                                                  ...    ...   ...   \n",
       "11040  https://www.google.com/maps/search/?api=1&quer...      4   NaN   \n",
       "11042  https://www.google.com/maps/search/?api=1&quer...      4   NaN   \n",
       "11043  https://www.google.com/maps/search/?api=1&quer...      4   NaN   \n",
       "11048  https://www.google.com/maps/search/?api=1&quer...      5   NaN   \n",
       "11049  https://www.google.com/maps/search/?api=1&quer...      5   NaN   \n",
       "\n",
       "       reviewUrl                                               text  \n",
       "0            NaN  Was admitted here for a few days in Maria 3 wa...  \n",
       "1            NaN  Bersih dan rapi\\nPetugas peeawat,dokter ditany...  \n",
       "2            NaN  Terimakasih atas pelayanan dan perawatan ibu s...  \n",
       "3            NaN  Pelayanan diruang Yosef bagus. Perawat ramah r...  \n",
       "4            NaN  Tempatnya bagus,rapi , nyaman sekali ruangan n...  \n",
       "...          ...                                                ...  \n",
       "11040        NaN           Hospital yg sangat rapi. Pelayanan bagus  \n",
       "11042        NaN                                       Khusus Paru.  \n",
       "11043        NaN                                                 👌👍  \n",
       "11048        NaN                                            RS Paru  \n",
       "11049        NaN  Rumah sakit untuk menangani penyakit paru dan ...  \n",
       "\n",
       "[7672 rows x 6 columns]"
      ]
     },
     "execution_count": 7,
     "metadata": {},
     "output_type": "execute_result"
    }
   ],
   "source": [
    "data"
   ]
  },
  {
   "cell_type": "code",
   "execution_count": 8,
   "id": "faa63719",
   "metadata": {},
   "outputs": [],
   "source": [
    "# simpan data\n",
    "data.to_csv('dataset_concat.csv', index=False)"
   ]
  }
 ],
 "metadata": {
  "kernelspec": {
   "display_name": "Python 3",
   "language": "python",
   "name": "python3"
  },
  "language_info": {
   "codemirror_mode": {
    "name": "ipython",
    "version": 3
   },
   "file_extension": ".py",
   "mimetype": "text/x-python",
   "name": "python",
   "nbconvert_exporter": "python",
   "pygments_lexer": "ipython3",
   "version": "3.11.0"
  }
 },
 "nbformat": 4,
 "nbformat_minor": 5
}
