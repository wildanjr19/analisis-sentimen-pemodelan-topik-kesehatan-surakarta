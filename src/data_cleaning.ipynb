{
 "cells": [
  {
   "cell_type": "code",
   "execution_count": 1,
   "metadata": {},
   "outputs": [],
   "source": [
    "import pandas as pd\n",
    "import re\n",
    "import string\n",
    "import emoji"
   ]
  },
  {
   "cell_type": "code",
   "execution_count": 4,
   "metadata": {},
   "outputs": [],
   "source": [
    "# cleaning function\n",
    "def cleaning(text):\n",
    "    \n",
    "    # hapus urls\n",
    "    text = re.sub(r'http\\S+|www\\.\\S+', '', text)\n",
    "\n",
    "    # Hapus mention\n",
    "    text = re.sub(r'@\\w+', '', text)\n",
    "\n",
    "    # Hapus hashtag, hanya menyimpan kata setelah tanda #\n",
    "    text = re.sub(r'#', '', text)\n",
    "\n",
    "    # Hapus tanda baca\n",
    "    text = text.translate(str.maketrans('', '', string.punctuation))\n",
    "\n",
    "    # Hapus emoji\n",
    "    text = emoji.replace_emoji(text, replace='')\n",
    "\n",
    "    # Hapus whitespace berlebih\n",
    "    text = re.sub(r'\\s+', ' ', text).strip()\n",
    "\n",
    "    # Ubah menjadi huruf kecil\n",
    "    text = text.lower()\n",
    "\n",
    "    return text\n"
   ]
  },
  {
   "cell_type": "code",
   "execution_count": 3,
   "metadata": {},
   "outputs": [
    {
     "data": {
      "application/vnd.microsoft.datawrangler.viewer.v0+json": {
       "columns": [
        {
         "name": "index",
         "rawType": "int64",
         "type": "integer"
        },
        {
         "name": "title",
         "rawType": "object",
         "type": "string"
        },
        {
         "name": "url",
         "rawType": "object",
         "type": "string"
        },
        {
         "name": "stars",
         "rawType": "int64",
         "type": "integer"
        },
        {
         "name": "name",
         "rawType": "float64",
         "type": "float"
        },
        {
         "name": "reviewUrl",
         "rawType": "float64",
         "type": "float"
        },
        {
         "name": "text",
         "rawType": "object",
         "type": "string"
        }
       ],
       "ref": "50f44a8c-d590-4fac-8807-8ad3bf0d598f",
       "rows": [
        [
         "0",
         "RS Brayat Minulya",
         "https://www.google.com/maps/search/?api=1&query=RS%20Brayat%20Minulya&query_place_id=ChIJyazc9scXei4RSMD_Pq1tPyY",
         "5",
         null,
         null,
         "Was admitted here for a few days in Maria 3 ward. During that time, the staffs, both medical and non medical, were so kind and helpful. The room were also clean as well. Thank you so much for helping me getting better those past few days. Hope you guys will keep up the good work."
        ],
        [
         "1",
         "RS Brayat Minulya",
         "https://www.google.com/maps/search/?api=1&query=RS%20Brayat%20Minulya&query_place_id=ChIJyazc9scXei4RSMD_Pq1tPyY",
         "5",
         null,
         null,
         "Bersih dan rapi\nPetugas peeawat,dokter ditanya tanya enak jawabnya dan sangat ramah"
        ],
        [
         "2",
         "RS Brayat Minulya",
         "https://www.google.com/maps/search/?api=1&query=RS%20Brayat%20Minulya&query_place_id=ChIJyazc9scXei4RSMD_Pq1tPyY",
         "5",
         null,
         null,
         "Terimakasih atas pelayanan dan perawatan ibu saya,tak lupa semua perawat suster Ruang Yosep sdh sabar dan pelayannya,siip jaga terus kredibilitas pelayan yg lbh baik"
        ],
        [
         "3",
         "RS Brayat Minulya",
         "https://www.google.com/maps/search/?api=1&query=RS%20Brayat%20Minulya&query_place_id=ChIJyazc9scXei4RSMD_Pq1tPyY",
         "5",
         null,
         null,
         "Pelayanan diruang Yosef bagus. Perawat ramah ramah. Sopan."
        ],
        [
         "4",
         "RS Brayat Minulya",
         "https://www.google.com/maps/search/?api=1&query=RS%20Brayat%20Minulya&query_place_id=ChIJyazc9scXei4RSMD_Pq1tPyY",
         "5",
         null,
         null,
         "Tempatnya bagus,rapi , nyaman sekali ruangan nya🙏 terimakasih RS brayat minulnya berkat suster \" yang baik dan sabar ayah saya jadi sembuh🥰🥰🥰"
        ]
       ],
       "shape": {
        "columns": 6,
        "rows": 5
       }
      },
      "text/html": [
       "<div>\n",
       "<style scoped>\n",
       "    .dataframe tbody tr th:only-of-type {\n",
       "        vertical-align: middle;\n",
       "    }\n",
       "\n",
       "    .dataframe tbody tr th {\n",
       "        vertical-align: top;\n",
       "    }\n",
       "\n",
       "    .dataframe thead th {\n",
       "        text-align: right;\n",
       "    }\n",
       "</style>\n",
       "<table border=\"1\" class=\"dataframe\">\n",
       "  <thead>\n",
       "    <tr style=\"text-align: right;\">\n",
       "      <th></th>\n",
       "      <th>title</th>\n",
       "      <th>url</th>\n",
       "      <th>stars</th>\n",
       "      <th>name</th>\n",
       "      <th>reviewUrl</th>\n",
       "      <th>text</th>\n",
       "    </tr>\n",
       "  </thead>\n",
       "  <tbody>\n",
       "    <tr>\n",
       "      <th>0</th>\n",
       "      <td>RS Brayat Minulya</td>\n",
       "      <td>https://www.google.com/maps/search/?api=1&amp;quer...</td>\n",
       "      <td>5</td>\n",
       "      <td>NaN</td>\n",
       "      <td>NaN</td>\n",
       "      <td>Was admitted here for a few days in Maria 3 wa...</td>\n",
       "    </tr>\n",
       "    <tr>\n",
       "      <th>1</th>\n",
       "      <td>RS Brayat Minulya</td>\n",
       "      <td>https://www.google.com/maps/search/?api=1&amp;quer...</td>\n",
       "      <td>5</td>\n",
       "      <td>NaN</td>\n",
       "      <td>NaN</td>\n",
       "      <td>Bersih dan rapi\\nPetugas peeawat,dokter ditany...</td>\n",
       "    </tr>\n",
       "    <tr>\n",
       "      <th>2</th>\n",
       "      <td>RS Brayat Minulya</td>\n",
       "      <td>https://www.google.com/maps/search/?api=1&amp;quer...</td>\n",
       "      <td>5</td>\n",
       "      <td>NaN</td>\n",
       "      <td>NaN</td>\n",
       "      <td>Terimakasih atas pelayanan dan perawatan ibu s...</td>\n",
       "    </tr>\n",
       "    <tr>\n",
       "      <th>3</th>\n",
       "      <td>RS Brayat Minulya</td>\n",
       "      <td>https://www.google.com/maps/search/?api=1&amp;quer...</td>\n",
       "      <td>5</td>\n",
       "      <td>NaN</td>\n",
       "      <td>NaN</td>\n",
       "      <td>Pelayanan diruang Yosef bagus. Perawat ramah r...</td>\n",
       "    </tr>\n",
       "    <tr>\n",
       "      <th>4</th>\n",
       "      <td>RS Brayat Minulya</td>\n",
       "      <td>https://www.google.com/maps/search/?api=1&amp;quer...</td>\n",
       "      <td>5</td>\n",
       "      <td>NaN</td>\n",
       "      <td>NaN</td>\n",
       "      <td>Tempatnya bagus,rapi , nyaman sekali ruangan n...</td>\n",
       "    </tr>\n",
       "  </tbody>\n",
       "</table>\n",
       "</div>"
      ],
      "text/plain": [
       "               title                                                url  \\\n",
       "0  RS Brayat Minulya  https://www.google.com/maps/search/?api=1&quer...   \n",
       "1  RS Brayat Minulya  https://www.google.com/maps/search/?api=1&quer...   \n",
       "2  RS Brayat Minulya  https://www.google.com/maps/search/?api=1&quer...   \n",
       "3  RS Brayat Minulya  https://www.google.com/maps/search/?api=1&quer...   \n",
       "4  RS Brayat Minulya  https://www.google.com/maps/search/?api=1&quer...   \n",
       "\n",
       "   stars  name  reviewUrl                                               text  \n",
       "0      5   NaN        NaN  Was admitted here for a few days in Maria 3 wa...  \n",
       "1      5   NaN        NaN  Bersih dan rapi\\nPetugas peeawat,dokter ditany...  \n",
       "2      5   NaN        NaN  Terimakasih atas pelayanan dan perawatan ibu s...  \n",
       "3      5   NaN        NaN  Pelayanan diruang Yosef bagus. Perawat ramah r...  \n",
       "4      5   NaN        NaN  Tempatnya bagus,rapi , nyaman sekali ruangan n...  "
      ]
     },
     "execution_count": 3,
     "metadata": {},
     "output_type": "execute_result"
    }
   ],
   "source": [
    "# import data\n",
    "data = pd.read_csv(r\"D:\\Willy's Project\\Project\\Magang Diskominfo\\data\\dataset_concat.csv\")\n",
    "data.head(5)"
   ]
  },
  {
   "cell_type": "code",
   "execution_count": 6,
   "metadata": {},
   "outputs": [],
   "source": [
    "# pastika kolom text adalah string\n",
    "data['text'] = data['text'].astype(str)"
   ]
  },
  {
   "cell_type": "code",
   "execution_count": 8,
   "metadata": {},
   "outputs": [],
   "source": [
    "# cleaning data\n",
    "data['cleaned'] = data['text'].apply(cleaning)"
   ]
  },
  {
   "cell_type": "code",
   "execution_count": 10,
   "metadata": {},
   "outputs": [
    {
     "name": "stdout",
     "output_type": "stream",
     "text": [
      "0       was admitted here for a few days in maria 3 wa...\n",
      "1       bersih dan rapi petugas peeawatdokter ditanya ...\n",
      "2       terimakasih atas pelayanan dan perawatan ibu s...\n",
      "3       pelayanan diruang yosef bagus perawat ramah ra...\n",
      "4       tempatnya bagusrapi nyaman sekali ruangan nya ...\n",
      "                              ...                        \n",
      "7667              hospital yg sangat rapi pelayanan bagus\n",
      "7668                                          khusus paru\n",
      "7669                                                     \n",
      "7670                                              rs paru\n",
      "7671    rumah sakit untuk menangani penyakit paru dan ...\n",
      "Name: cleaned, Length: 7672, dtype: object\n"
     ]
    }
   ],
   "source": [
    "print(data['cleaned'])"
   ]
  },
  {
   "cell_type": "code",
   "execution_count": 12,
   "metadata": {},
   "outputs": [],
   "source": [
    "# simpan data sebagai checkpoint\n",
    "data.to_csv(r\"D:\\Willy's Project\\Project\\Magang Diskominfo\\data\\dataset_cleaned.csv\", index=False)"
   ]
  },
  {
   "cell_type": "code",
   "execution_count": 13,
   "metadata": {},
   "outputs": [
    {
     "name": "stdout",
     "output_type": "stream",
     "text": [
      "<class 'pandas.core.frame.DataFrame'>\n",
      "RangeIndex: 7672 entries, 0 to 7671\n",
      "Data columns (total 7 columns):\n",
      " #   Column     Non-Null Count  Dtype  \n",
      "---  ------     --------------  -----  \n",
      " 0   title      7672 non-null   object \n",
      " 1   url        7672 non-null   object \n",
      " 2   stars      7672 non-null   int64  \n",
      " 3   name       0 non-null      float64\n",
      " 4   reviewUrl  0 non-null      float64\n",
      " 5   text       7672 non-null   object \n",
      " 6   cleaned    7672 non-null   object \n",
      "dtypes: float64(2), int64(1), object(4)\n",
      "memory usage: 419.7+ KB\n"
     ]
    }
   ],
   "source": [
    "data.info()"
   ]
  },
  {
   "cell_type": "code",
   "execution_count": 14,
   "metadata": {},
   "outputs": [],
   "source": [
    "# hapus beberapa kolom yang tidak diperlukan sebagai dataset final\n",
    "data = data.drop(columns=['url', 'name', 'reviewUrl', 'text'])"
   ]
  },
  {
   "cell_type": "code",
   "execution_count": 16,
   "metadata": {},
   "outputs": [],
   "source": [
    "# ubah nama kolom cleaned menjadi text\n",
    "data = data.rename(columns={'cleaned': 'text'})"
   ]
  },
  {
   "cell_type": "code",
   "execution_count": 18,
   "metadata": {},
   "outputs": [],
   "source": [
    "# simpan sebagai dataset final\n",
    "data.to_csv(r\"D:\\Willy's Project\\Project\\Magang Diskominfo\\data\\dataset_final.csv\", index=False)"
   ]
  },
  {
   "cell_type": "code",
   "execution_count": 20,
   "metadata": {},
   "outputs": [],
   "source": [
    "import deep_translator\n",
    "from deep_translator import GoogleTranslator"
   ]
  },
  {
   "cell_type": "code",
   "execution_count": 21,
   "metadata": {},
   "outputs": [],
   "source": [
    "def translate_to_indonesian(text):\n",
    "    try:\n",
    "        translated = GoogleTranslator(source='auto', target='id').translate(text)\n",
    "        return translated\n",
    "    except Exception as e:\n",
    "        return text  "
   ]
  },
  {
   "cell_type": "code",
   "execution_count": 22,
   "metadata": {},
   "outputs": [],
   "source": [
    "# apply translation\n",
    "data['text_translation'] = data['text'].apply(translate_to_indonesian)"
   ]
  },
  {
   "cell_type": "code",
   "execution_count": 23,
   "metadata": {},
   "outputs": [
    {
     "data": {
      "application/vnd.microsoft.datawrangler.viewer.v0+json": {
       "columns": [
        {
         "name": "index",
         "rawType": "int64",
         "type": "integer"
        },
        {
         "name": "title",
         "rawType": "object",
         "type": "string"
        },
        {
         "name": "stars",
         "rawType": "int64",
         "type": "integer"
        },
        {
         "name": "text",
         "rawType": "object",
         "type": "string"
        },
        {
         "name": "text_translation",
         "rawType": "object",
         "type": "string"
        }
       ],
       "ref": "d44c0081-2d1d-490e-8783-d76534388c1b",
       "rows": [
        [
         "0",
         "RS Brayat Minulya",
         "5",
         "was admitted here for a few days in maria 3 ward during that time the staffs both medical and non medical were so kind and helpful the room were also clean as well thank you so much for helping me getting better those past few days hope you guys will keep up the good work",
         "telah dirawat di sini selama beberapa hari di Maria 3 Ward selama waktu itu staf baik medis dan non medis begitu baik dan membantu ruangan juga bersih juga terima kasih banyak telah membantu saya menjadi lebih baik beberapa hari terakhir berharap kalian akan menjaga kerja yang baik dengan baik"
        ],
        [
         "1",
         "RS Brayat Minulya",
         "5",
         "bersih dan rapi petugas peeawatdokter ditanya tanya enak jawabnya dan sangat ramah",
         "bersih dan rapi petugas peeawatdokter ditanya tanya enak jawabnya dan sangat ramah"
        ],
        [
         "2",
         "RS Brayat Minulya",
         "5",
         "terimakasih atas pelayanan dan perawatan ibu sayatak lupa semua perawat suster ruang yosep sdh sabar dan pelayannyasiip jaga terus kredibilitas pelayan yg lbh baik",
         "terimakasih atas pelayanan dan perawatan ibu sayatak lupa semua perawat suster ruang yosep sdh sabar dan pelayannyasiip jaga terus kredibilitas pelayan yg lbh baik"
        ],
        [
         "3",
         "RS Brayat Minulya",
         "5",
         "pelayanan diruang yosef bagus perawat ramah ramah sopan",
         "pelayanan diruang yosef bagus perawat ramah ramah sopan"
        ],
        [
         "4",
         "RS Brayat Minulya",
         "5",
         "tempatnya bagusrapi nyaman sekali ruangan nya terimakasih rs brayat minulnya berkat suster yang baik dan sabar ayah saya jadi sembuh",
         "tempatnya bagusrapi nyaman sekali ruangan nya terimakasih rs brayat minulnya berkat suster yang baik dan sabar ayah saya jadi sembuh"
        ],
        [
         "5",
         "RS Brayat Minulya",
         "5",
         "mantap pelayanan maximal terimakasih banyak untuk ruang maria yg telah merawat ku dengan sepenuh hati senantiasa cinta kasih tuhan melingkupi kita semua amin",
         "mantap pelayanan maximal terimakasih banyak untuk ruang maria yg telah merawat ku dengan sepenuh hati senantiasa cinta kasih tuhan melingkupi kita semua amin"
        ],
        [
         "6",
         "RS Brayat Minulya",
         "5",
         "perawat ruang maria ramah pelayanan baik dan responsif bravo",
         "perawat ruang maria ramah pelayanan baik dan responsif bravo"
        ],
        [
         "7",
         "RS Brayat Minulya",
         "5",
         "ruang yosep perawatannya baikrespon cepatramah trimakasih sudah di rawat",
         "ruang yosep perawatannya baikrespon cepatramah trimakasih sudah di rawat"
        ],
        [
         "8",
         "RS Brayat Minulya",
         "5",
         "ruang yoseph pelayanan bagus ramah dan responnya cepat terima kasih rs brayat m",
         "ruang yoseph pelayanan bagus ramah dan responnya cepat terima kasih rs brayat m"
        ],
        [
         "9",
         "RS Brayat Minulya",
         "5",
         "berobat di rs brayat pelayanan memuaskan ramah",
         "berobat di rs brayat pelayanan memuaskan ramah"
        ],
        [
         "10",
         "RS Brayat Minulya",
         "5",
         "pelayanan yg baikjadwal oprasi pun cepatkebersihan yg baik",
         "pelayanan yg baikjadwal oprasi pun cepatkebersihan yg baik"
        ],
        [
         "11",
         "RS Brayat Minulya",
         "5",
         "waktu saya asma dibawa ke igd dan sangatt kewren pelayanannya baik dokter maupun perawatnya",
         "waktu saya asma dibawa ke igd dan sangatt kewren pelayanannya baik dokter maupun perawatnya"
        ],
        [
         "12",
         "RS Brayat Minulya",
         "5",
         "ruang theresia 101b an gabriela pelayanan baik perawat tanggap dan ramah rs brayat semakin maju dan berkembang",
         "ruang theresia 101b an gabriela pelayanan baik perawat tanggap dan ramah rs brayat semakin maju dan berkembang"
        ],
        [
         "13",
         "RS Brayat Minulya",
         "5",
         "pelayanan baikdi ruang yosep",
         "pelayanan baikdi ruang yosep"
        ],
        [
         "14",
         "RS Brayat Minulya",
         "5",
         "kamar 101a pelayanan baik",
         "kamar 101a pelayanan baik"
        ],
        [
         "15",
         "RS Brayat Minulya",
         "5",
         "puas dengan pelayanannya",
         "puas dengan pelayanannya"
        ],
        [
         "16",
         "RS Brayat Minulya",
         "5",
         "selamat siang crew personil dan team rs brayat saya sebagai pasien rs brayat minulya sangat puas dgn pelayanan rs brayat minulya mulai dari pak sopir ambulan dan teamnya krn saya kemaren saat kejadian di jemput oleh team ambulan rs brayat pak satpam rs brayat yg begitu ramah dan cepat dlm mengantarkan n menunjukkan ke ruang igd perawat dan dokter ruang ugd juga baik ramah sopan sigap dan tanggap dlm memberikan pelayanan pelayanan dan tindakannya pas dan tepat radiografer nya juga baik pelayanan raamah cepat dan tepat lalu saya dirawat diruang maria pelayanan nya semua juga memuaskan untuk perawatnya team nya bintang 5 untuk perawat ruang maria sangat bagus ramah tanggap cepat dalam pelayanan sigap dan tepat untuk ibu kepala ruangnya juga baik sangat detail dalam menjelaskan tentang ruang maria misal jika ada apa2 untuk bantuan langsung disuruh mencet bel yg ada di kamar fasilitas ruangan bagus dokter henradewi juga baik ramah sopan bagus tepat tindakannya saya byk mengucapkan terimakasih kepada rs brayat minulya surakarta yg telah baik dan tepat dalam memberikan pelayanan dan baik semuanya untuk crew n team dan personil rs brayat minulya surakarta saya puas bintang 5good job rs brayat i love you so much wisdom an excellent brayat wae berkah dalem",
         "selamat siang crew personil dan team rs brayat saya sebagai pasien rs brayat minulya sangat puas dgn pelayanan rs brayat minulya mulai dari pak sopir ambulan dan teamnya krn saya kemaren saat kejadian di jemput oleh team ambulan rs brayat pak satpam rs brayat yg begitu ramah dan cepat dlm mengantarkan n menunjukkan ke ruang igd perawat dan dokter ruang ugd juga baik ramah sopan sigap dan tanggap dlm memberikan pelayanan pelayanan dan tindakannya pas dan tepat radiografer nya juga baik pelayanan raamah cepat dan tepat lalu saya dirawat diruang maria pelayanan nya semua juga memuaskan untuk perawatnya team nya bintang 5 untuk perawat ruang maria sangat bagus ramah tanggap cepat dalam pelayanan sigap dan tepat untuk ibu kepala ruangnya juga baik sangat detail dalam menjelaskan tentang ruang maria misal jika ada apa2 untuk bantuan langsung disuruh mencet bel yg ada di kamar fasilitas ruangan bagus dokter henradewi juga baik ramah sopan bagus tepat tindakannya saya byk mengucapkan terimakasih kepada rs brayat minulya surakarta yg telah baik dan tepat dalam memberikan pelayanan dan baik semuanya untuk crew n team dan personil rs brayat minulya surakarta saya puas bintang 5good job rs brayat i love you so much wisdom an excellent brayat wae berkah dalem"
        ],
        [
         "17",
         "RS Brayat Minulya",
         "5",
         "pelayanan baik perawat dan dokter ramah dan tanggap",
         "pelayanan baik perawat dan dokter ramah dan tanggap"
        ],
        [
         "18",
         "RS Brayat Minulya",
         "5",
         "pelayanan baik perawat ramah ruangan bersih",
         "pelayanan baik perawat ramah ruangan bersih"
        ],
        [
         "19",
         "RS Brayat Minulya",
         "4",
         "anak diruang teresia 109 pelayanan sangat nyaman danmemuaskan",
         "anak diruang teresia 109 pelayanan sangat nyaman danmemuaskan"
        ],
        [
         "20",
         "RS Brayat Minulya",
         "5",
         "anak di ruang tresia 12b untuk pelayanan nya cukup baik penjelasan nya cukup baik",
         "anak di ruang tresia 12b untuk pelayanan nya cukup baik penjelasan nya cukup baik"
        ],
        [
         "21",
         "RS Brayat Minulya",
         "5",
         "pelayanan dari satpam bgs pendftran bgs dokter dan perawat jg bgs baik sabar dan ontem sekali pencetbel",
         "pelayanan dari satpam bgs pendftran bgs dokter dan perawat jg bgs baik sabar dan ontem sekali pencetbel"
        ],
        [
         "22",
         "RS Brayat Minulya",
         "2",
         "antrian laboratoriumnya cepat hanya petugasnya yang lakilaki kurang sopan dan tidak ramah semoga lebih baik lagi",
         "antrian laboratoriumnya cepat hanya petugasnya yang lakilaki kurang sopan dan tidak ramah semoga lebih baik lagi"
        ],
        [
         "23",
         "RS Brayat Minulya",
         "1",
         "dibagian pendaftaran salah terus dalam memberi informasi rujukan maupun antrian dokter",
         "dibagian pendaftaran salah terus dalam memberi informasi rujukan maupun antrian dokter"
        ],
        [
         "24",
         "RS Brayat Minulya",
         "5",
         "saya merasa perawatan dan pengobatan di rs brayat dilayani dengan sepenuh hati dengan dokter dokter serta perawat yang sabar dan cepat respon dengan segala keluhan pasien sangat ramah dan murah senyumthks rs brayat suskes selalu terimakasih bu beti dan semua dokter dan perawatrs brayatjaya terus",
         "saya merasa perawatan dan pengobatan di rs brayat dilayani dengan sepenuh hati dengan dokter dokter serta perawat yang sabar dan cepat respon dengan segala keluhan pasien sangat ramah dan murah senyumthks rs brayat suskes selalu terimakasih bu beti dan semua dokter dan perawatrs brayatjaya terus"
        ],
        [
         "25",
         "RS Brayat Minulya",
         "5",
         "pelayanan dan penanganan sangat baik segala proses baik berobat maupun opname terkhusus nya untuk ruang yosep sangat whort it tuhan yesus memberkati",
         "pelayanan dan penanganan sangat baik segala proses baik berobat maupun opname terkhusus nya untuk ruang yosep sangat whort it tuhan yesus memberkati"
        ],
        [
         "26",
         "RS Brayat Minulya",
         "5",
         "sepengalaman saya baik dari pelayanan serta fasilitas yang kami dapati sudah menemuhi syarat yang ada terimakasih dan sukses untuk seluruh stackholder rs brayat",
         "sepengalaman saya baik dari pelayanan serta fasilitas yang kami dapati sudah menemuhi syarat yang ada terimakasih dan sukses untuk seluruh stackholder rs brayat"
        ],
        [
         "27",
         "RS Brayat Minulya",
         "5",
         "ruang teresia 112d sangat ramah sekali",
         "ruang teresia 112d sangat ramah sekali"
        ],
        [
         "28",
         "RS Brayat Minulya",
         "5",
         "pelayanan cepat dan ramah",
         "pelayanan cepat dan ramah"
        ],
        [
         "29",
         "RS Brayat Minulya",
         "5",
         "pelayanannya sangat baik perawat dokter melayani dengan baik ruang kamar maria b 314 nyaman aman bersih makan minum pun juga baik terimakasih semoga tuhan selalu memberkati",
         "pelayanannya sangat baik perawat dokter melayani dengan baik ruang kamar maria b 314 nyaman aman bersih makan minum pun juga baik terimakasih semoga tuhan selalu memberkati"
        ],
        [
         "30",
         "RS Brayat Minulya",
         "5",
         "pelayanan di ruang yoseph sangat ramah dan cekatansemoga rsbm semakin sukses kedepannyadan menjadi rumah sakit yg selalu dicintai warga solo dan sekitarnya",
         "pelayanan di ruang yoseph sangat ramah dan cekatansemoga rsbm semakin sukses kedepannyadan menjadi rumah sakit yg selalu dicintai warga solo dan sekitarnya"
        ],
        [
         "31",
         "RS Brayat Minulya",
         "5",
         "trimakasih saya bpk jumadi sudah di rawat di ruang yosep dengan baik dan ramah",
         "trimakasih saya bpk jumadi sudah di rawat di ruang yosep dengan baik dan ramah"
        ],
        [
         "32",
         "RS Brayat Minulya",
         "5",
         "trimaksih atas pelayanan di ruang yosep perawat dan dokter ramah dan baik yg sudah merawat suami saya bpk kali trimakasih",
         "trimaksih atas pelayanan di ruang yosep perawat dan dokter ramah dan baik yg sudah merawat suami saya bpk kali trimakasih"
        ],
        [
         "33",
         "RS Brayat Minulya",
         "5",
         "trimakasih atas perawatan ibu saya ibu sudarmi sdhdibrawat dengan baik di ruang yosep",
         "trimakasih atas perawatan ibu saya ibu sudarmi sdhdibrawat dengan baik di ruang yosep"
        ],
        [
         "34",
         "RS Brayat Minulya",
         "5",
         "perawatan di ruang yosep baik pelayanan cepattrimakasih",
         "perawatan di ruang yosep baik pelayanan cepattrimakasih"
        ],
        [
         "35",
         "RS Brayat Minulya",
         "5",
         "perawatan di ruang yosep perawatnya dan dokterpetugas yang lain baik dan ramahtrimakasih",
         "perawatan di ruang yosep perawatnya dan dokterpetugas yang lain baik dan ramahtrimakasih"
        ],
        [
         "36",
         "RS Brayat Minulya",
         "5",
         "trimakasih atas perawatan saat ini di ruang yosep baik baik dokter dan perawat",
         "trimakasih atas perawatan saat ini di ruang yosep baik baik dokter dan perawat"
        ],
        [
         "37",
         "RS Brayat Minulya",
         "5",
         "saya saat ini di rawat di ruang yosepperawatdokter dan petugas yang lain juga baik dan ramahtrimakasih",
         "saya saat ini di rawat di ruang yosepperawatdokter dan petugas yang lain juga baik dan ramahtrimakasih"
        ],
        [
         "38",
         "RS Brayat Minulya",
         "5",
         "trimakasih atas perawatan di ruang yosepbaik dan ramah semua petugas",
         "trimakasih atas perawatan di ruang yosepbaik dan ramah semua petugas"
        ],
        [
         "39",
         "RS Brayat Minulya",
         "5",
         "perawatan nya baik",
         "perawatan nya baik"
        ],
        [
         "40",
         "RS Brayat Minulya",
         "5",
         "good job theresia 112a",
         "kerja bagus theresia 112a"
        ],
        [
         "41",
         "RS Brayat Minulya",
         "5",
         "anak saya dirawat di ruang theresia oleh dr pudjiastuti spa penjelasan dari dokter sangat jelas perawatnya ramah2 ruangan bersih dan nyaman terimakasih rs brayat minulya",
         "anak saya dirawat di ruang theresia oleh dr pudjiastuti spa penjelasan dari dokter sangat jelas perawatnya ramah2 ruangan bersih dan nyaman terimakasih rs brayat minulya"
        ],
        [
         "42",
         "RS Brayat Minulya",
         "5",
         "terimakasih doktersuwardi dan perawat poliibsdan perawat di ruang theresia yg sudah baik dan sabar dalam merawat anak saya evano gibran radikasemoga selalu di beri kesahatan dan keberkahan dalam pelayanansukses dan maju terus rsbrayat minulya",
         "terimakasih doktersuwardi dan perawat poliibsdan perawat di ruang theresia yg sudah baik dan sabar dalam merawat anak saya evano gibran radikasemoga selalu di beri kesahatan dan keberkahan dalam pelayanansukses dan maju terus rsbrayat minulya"
        ],
        [
         "43",
         "RS Brayat Minulya",
         "5",
         "pelayanan baik bagus sekali",
         "pelayanan baik bagus sekali"
        ],
        [
         "44",
         "RS Brayat Minulya",
         "5",
         "pelayanan baik dan sangat ramah",
         "pelayanan baik dan sangat ramah"
        ],
        [
         "45",
         "RS Brayat Minulya",
         "5",
         "pelayanan cepatperhatian dan santun",
         "pelayanan cepatperhatian dan santun"
        ],
        [
         "46",
         "RS Brayat Minulya",
         "5",
         "pelayanan sangat puas",
         "pelayanan sangat puas"
        ],
        [
         "47",
         "RS Brayat Minulya",
         "5",
         "anak sy dirawat bbrp hari lalu krn demam trombosit turun dari awal datang sampe pulang tidak ada kendala sama sekali dan pelayanan ke pasien jg baik meskipun kami memakai bpjs sip lah",
         "anak sy dirawat bbrp hari lalu krn demam trombosit turun dari awal datang sampe pulang tidak ada kendala sama sekali dan pelayanan ke pasien jg baik meskipun kami memakai bpjs sip lah"
        ],
        [
         "48",
         "RS Brayat Minulya",
         "5",
         "pelayanan dirumah sakit brayat minulya ruang theresia kelas 3 no 112 sangat baik perawatnya ramah ramah jaya terus brayat minulya",
         "pelayanan dirumah sakit brayat minulya ruang theresia kelas 3 no 112 sangat baik perawatnya ramah ramah jaya terus brayat minulya"
        ],
        [
         "49",
         "RS Brayat Minulya",
         "5",
         "ramah baik memuaskan theresia kamar 104",
         "ramah baik memuaskan theresia kamar 104"
        ]
       ],
       "shape": {
        "columns": 4,
        "rows": 7672
       }
      },
      "text/html": [
       "<div>\n",
       "<style scoped>\n",
       "    .dataframe tbody tr th:only-of-type {\n",
       "        vertical-align: middle;\n",
       "    }\n",
       "\n",
       "    .dataframe tbody tr th {\n",
       "        vertical-align: top;\n",
       "    }\n",
       "\n",
       "    .dataframe thead th {\n",
       "        text-align: right;\n",
       "    }\n",
       "</style>\n",
       "<table border=\"1\" class=\"dataframe\">\n",
       "  <thead>\n",
       "    <tr style=\"text-align: right;\">\n",
       "      <th></th>\n",
       "      <th>title</th>\n",
       "      <th>stars</th>\n",
       "      <th>text</th>\n",
       "      <th>text_translation</th>\n",
       "    </tr>\n",
       "  </thead>\n",
       "  <tbody>\n",
       "    <tr>\n",
       "      <th>0</th>\n",
       "      <td>RS Brayat Minulya</td>\n",
       "      <td>5</td>\n",
       "      <td>was admitted here for a few days in maria 3 wa...</td>\n",
       "      <td>telah dirawat di sini selama beberapa hari di ...</td>\n",
       "    </tr>\n",
       "    <tr>\n",
       "      <th>1</th>\n",
       "      <td>RS Brayat Minulya</td>\n",
       "      <td>5</td>\n",
       "      <td>bersih dan rapi petugas peeawatdokter ditanya ...</td>\n",
       "      <td>bersih dan rapi petugas peeawatdokter ditanya ...</td>\n",
       "    </tr>\n",
       "    <tr>\n",
       "      <th>2</th>\n",
       "      <td>RS Brayat Minulya</td>\n",
       "      <td>5</td>\n",
       "      <td>terimakasih atas pelayanan dan perawatan ibu s...</td>\n",
       "      <td>terimakasih atas pelayanan dan perawatan ibu s...</td>\n",
       "    </tr>\n",
       "    <tr>\n",
       "      <th>3</th>\n",
       "      <td>RS Brayat Minulya</td>\n",
       "      <td>5</td>\n",
       "      <td>pelayanan diruang yosef bagus perawat ramah ra...</td>\n",
       "      <td>pelayanan diruang yosef bagus perawat ramah ra...</td>\n",
       "    </tr>\n",
       "    <tr>\n",
       "      <th>4</th>\n",
       "      <td>RS Brayat Minulya</td>\n",
       "      <td>5</td>\n",
       "      <td>tempatnya bagusrapi nyaman sekali ruangan nya ...</td>\n",
       "      <td>tempatnya bagusrapi nyaman sekali ruangan nya ...</td>\n",
       "    </tr>\n",
       "    <tr>\n",
       "      <th>...</th>\n",
       "      <td>...</td>\n",
       "      <td>...</td>\n",
       "      <td>...</td>\n",
       "      <td>...</td>\n",
       "    </tr>\n",
       "    <tr>\n",
       "      <th>7667</th>\n",
       "      <td>Rumah Sakit Umum Pusat Surakarta</td>\n",
       "      <td>4</td>\n",
       "      <td>hospital yg sangat rapi pelayanan bagus</td>\n",
       "      <td>hospital yg sangat rapi pelayanan bagus</td>\n",
       "    </tr>\n",
       "    <tr>\n",
       "      <th>7668</th>\n",
       "      <td>Rumah Sakit Umum Pusat Surakarta</td>\n",
       "      <td>4</td>\n",
       "      <td>khusus paru</td>\n",
       "      <td>khusus paru</td>\n",
       "    </tr>\n",
       "    <tr>\n",
       "      <th>7669</th>\n",
       "      <td>Rumah Sakit Umum Pusat Surakarta</td>\n",
       "      <td>4</td>\n",
       "      <td></td>\n",
       "      <td></td>\n",
       "    </tr>\n",
       "    <tr>\n",
       "      <th>7670</th>\n",
       "      <td>Rumah Sakit Umum Pusat Surakarta</td>\n",
       "      <td>5</td>\n",
       "      <td>rs paru</td>\n",
       "      <td>rs paru</td>\n",
       "    </tr>\n",
       "    <tr>\n",
       "      <th>7671</th>\n",
       "      <td>Rumah Sakit Umum Pusat Surakarta</td>\n",
       "      <td>5</td>\n",
       "      <td>rumah sakit untuk menangani penyakit paru dan ...</td>\n",
       "      <td>rumah sakit untuk menangani penyakit paru dan ...</td>\n",
       "    </tr>\n",
       "  </tbody>\n",
       "</table>\n",
       "<p>7672 rows × 4 columns</p>\n",
       "</div>"
      ],
      "text/plain": [
       "                                 title  stars  \\\n",
       "0                    RS Brayat Minulya      5   \n",
       "1                    RS Brayat Minulya      5   \n",
       "2                    RS Brayat Minulya      5   \n",
       "3                    RS Brayat Minulya      5   \n",
       "4                    RS Brayat Minulya      5   \n",
       "...                                ...    ...   \n",
       "7667  Rumah Sakit Umum Pusat Surakarta      4   \n",
       "7668  Rumah Sakit Umum Pusat Surakarta      4   \n",
       "7669  Rumah Sakit Umum Pusat Surakarta      4   \n",
       "7670  Rumah Sakit Umum Pusat Surakarta      5   \n",
       "7671  Rumah Sakit Umum Pusat Surakarta      5   \n",
       "\n",
       "                                                   text  \\\n",
       "0     was admitted here for a few days in maria 3 wa...   \n",
       "1     bersih dan rapi petugas peeawatdokter ditanya ...   \n",
       "2     terimakasih atas pelayanan dan perawatan ibu s...   \n",
       "3     pelayanan diruang yosef bagus perawat ramah ra...   \n",
       "4     tempatnya bagusrapi nyaman sekali ruangan nya ...   \n",
       "...                                                 ...   \n",
       "7667            hospital yg sangat rapi pelayanan bagus   \n",
       "7668                                        khusus paru   \n",
       "7669                                                      \n",
       "7670                                            rs paru   \n",
       "7671  rumah sakit untuk menangani penyakit paru dan ...   \n",
       "\n",
       "                                       text_translation  \n",
       "0     telah dirawat di sini selama beberapa hari di ...  \n",
       "1     bersih dan rapi petugas peeawatdokter ditanya ...  \n",
       "2     terimakasih atas pelayanan dan perawatan ibu s...  \n",
       "3     pelayanan diruang yosef bagus perawat ramah ra...  \n",
       "4     tempatnya bagusrapi nyaman sekali ruangan nya ...  \n",
       "...                                                 ...  \n",
       "7667            hospital yg sangat rapi pelayanan bagus  \n",
       "7668                                        khusus paru  \n",
       "7669                                                     \n",
       "7670                                            rs paru  \n",
       "7671  rumah sakit untuk menangani penyakit paru dan ...  \n",
       "\n",
       "[7672 rows x 4 columns]"
      ]
     },
     "execution_count": 23,
     "metadata": {},
     "output_type": "execute_result"
    }
   ],
   "source": [
    "data"
   ]
  }
 ],
 "metadata": {
  "kernelspec": {
   "display_name": "Python 3",
   "language": "python",
   "name": "python3"
  },
  "language_info": {
   "codemirror_mode": {
    "name": "ipython",
    "version": 3
   },
   "file_extension": ".py",
   "mimetype": "text/x-python",
   "name": "python",
   "nbconvert_exporter": "python",
   "pygments_lexer": "ipython3",
   "version": "3.11.0"
  }
 },
 "nbformat": 4,
 "nbformat_minor": 2
}
