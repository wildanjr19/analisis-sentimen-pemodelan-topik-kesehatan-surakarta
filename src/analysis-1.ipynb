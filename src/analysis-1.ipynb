{
 "cells": [
  {
   "cell_type": "markdown",
   "id": "b0bd2c92",
   "metadata": {},
   "source": [
    "Melakukan analisis menggunakan metode statistik"
   ]
  },
  {
   "cell_type": "code",
   "execution_count": 2,
   "id": "ab745b34",
   "metadata": {},
   "outputs": [],
   "source": [
    "import pandas as pd\n",
    "import numpy as np\n",
    "from scipy.stats import chi2_contingency\n",
    "import seaborn as sns\n",
    "import matplotlib.pyplot as plt"
   ]
  },
  {
   "cell_type": "code",
   "execution_count": 5,
   "id": "8af72d8e",
   "metadata": {},
   "outputs": [
    {
     "data": {
      "application/vnd.microsoft.datawrangler.viewer.v0+json": {
       "columns": [
        {
         "name": "index",
         "rawType": "int64",
         "type": "integer"
        },
        {
         "name": "title",
         "rawType": "object",
         "type": "string"
        },
        {
         "name": "stars",
         "rawType": "int64",
         "type": "integer"
        },
        {
         "name": "text",
         "rawType": "object",
         "type": "string"
        },
        {
         "name": "pelayanan",
         "rawType": "int64",
         "type": "integer"
        },
        {
         "name": "fasilitas",
         "rawType": "int64",
         "type": "integer"
        },
        {
         "name": "predicted_labels",
         "rawType": "object",
         "type": "string"
        },
        {
         "name": "sentiment",
         "rawType": "object",
         "type": "string"
        }
       ],
       "ref": "d0556e6e-c7fc-4fa4-9a2b-46f4f485e8e3",
       "rows": [
        [
         "0",
         "RS Brayat Minulya",
         "5",
         "telah dirawat di sini selama beberapa hari di Maria 3 Ward selama waktu itu staf baik medis dan non medis begitu baik dan membantu ruangan juga bersih juga terima kasih banyak telah membantu saya menjadi lebih baik beberapa hari terakhir berharap kalian akan menjaga kerja yang baik dengan baik",
         "1",
         "1",
         "['pelayanan', 'fasilitas']",
         "positive"
        ],
        [
         "1",
         "RS Brayat Minulya",
         "5",
         "bersih dan rapi petugas peeawatdokter ditanya tanya enak jawabnya dan sangat ramah",
         "1",
         "1",
         "['pelayanan', 'fasilitas']",
         "positive"
        ],
        [
         "2",
         "RS Brayat Minulya",
         "5",
         "terimakasih atas pelayanan dan perawatan ibu sayatak lupa semua perawat suster ruang yosep sdh sabar dan pelayannyasiip jaga terus kredibilitas pelayan yg lbh baik",
         "1",
         "0",
         "['pelayanan']",
         "positive"
        ],
        [
         "3",
         "RS Brayat Minulya",
         "5",
         "pelayanan diruang yosef bagus perawat ramah ramah sopan",
         "1",
         "0",
         "['pelayanan']",
         "positive"
        ],
        [
         "4",
         "RS Brayat Minulya",
         "5",
         "tempatnya bagusrapi nyaman sekali ruangan nya terimakasih rs brayat minulnya berkat suster yang baik dan sabar ayah saya jadi sembuh",
         "1",
         "1",
         "['pelayanan', 'fasilitas']",
         "positive"
        ],
        [
         "5",
         "RS Brayat Minulya",
         "5",
         "mantap pelayanan maximal terimakasih banyak untuk ruang maria yg telah merawat ku dengan sepenuh hati senantiasa cinta kasih tuhan melingkupi kita semua amin",
         "1",
         "0",
         "['pelayanan']",
         "positive"
        ],
        [
         "6",
         "RS Brayat Minulya",
         "5",
         "perawat ruang maria ramah pelayanan baik dan responsif bravo",
         "1",
         "0",
         "['pelayanan']",
         "positive"
        ],
        [
         "7",
         "RS Brayat Minulya",
         "5",
         "ruang yosep perawatannya baikrespon cepatramah trimakasih sudah di rawat",
         "1",
         "1",
         "['pelayanan', 'fasilitas']",
         "positive"
        ],
        [
         "8",
         "RS Brayat Minulya",
         "5",
         "ruang yoseph pelayanan bagus ramah dan responnya cepat terima kasih rs brayat m",
         "1",
         "1",
         "['pelayanan', 'fasilitas']",
         "positive"
        ],
        [
         "9",
         "RS Brayat Minulya",
         "5",
         "berobat di rs brayat pelayanan memuaskan ramah",
         "1",
         "0",
         "['pelayanan']",
         "positive"
        ],
        [
         "10",
         "RS Brayat Minulya",
         "5",
         "pelayanan yg baikjadwal oprasi pun cepatkebersihan yg baik",
         "1",
         "0",
         "['pelayanan']",
         "positive"
        ],
        [
         "11",
         "RS Brayat Minulya",
         "5",
         "waktu saya asma dibawa ke igd dan sangatt kewren pelayanannya baik dokter maupun perawatnya",
         "1",
         "0",
         "['pelayanan']",
         "neutral"
        ],
        [
         "12",
         "RS Brayat Minulya",
         "5",
         "ruang theresia 101b an gabriela pelayanan baik perawat tanggap dan ramah rs brayat semakin maju dan berkembang",
         "1",
         "1",
         "['pelayanan', 'fasilitas']",
         "positive"
        ],
        [
         "13",
         "RS Brayat Minulya",
         "5",
         "pelayanan baikdi ruang yosep",
         "1",
         "1",
         "['pelayanan', 'fasilitas']",
         "positive"
        ],
        [
         "14",
         "RS Brayat Minulya",
         "5",
         "kamar 101a pelayanan baik",
         "1",
         "1",
         "['pelayanan', 'fasilitas']",
         "positive"
        ],
        [
         "15",
         "RS Brayat Minulya",
         "5",
         "puas dengan pelayanannya",
         "1",
         "0",
         "['pelayanan']",
         "positive"
        ],
        [
         "16",
         "RS Brayat Minulya",
         "5",
         "selamat siang crew personil dan team rs brayat saya sebagai pasien rs brayat minulya sangat puas dgn pelayanan rs brayat minulya mulai dari pak sopir ambulan dan teamnya krn saya kemaren saat kejadian di jemput oleh team ambulan rs brayat pak satpam rs brayat yg begitu ramah dan cepat dlm mengantarkan n menunjukkan ke ruang igd perawat dan dokter ruang ugd juga baik ramah sopan sigap dan tanggap dlm memberikan pelayanan pelayanan dan tindakannya pas dan tepat radiografer nya juga baik pelayanan raamah cepat dan tepat lalu saya dirawat diruang maria pelayanan nya semua juga memuaskan untuk perawatnya team nya bintang 5 untuk perawat ruang maria sangat bagus ramah tanggap cepat dalam pelayanan sigap dan tepat untuk ibu kepala ruangnya juga baik sangat detail dalam menjelaskan tentang ruang maria misal jika ada apa2 untuk bantuan langsung disuruh mencet bel yg ada di kamar fasilitas ruangan bagus dokter henradewi juga baik ramah sopan bagus tepat tindakannya saya byk mengucapkan terimakasih kepada rs brayat minulya surakarta yg telah baik dan tepat dalam memberikan pelayanan dan baik semuanya untuk crew n team dan personil rs brayat minulya surakarta saya puas bintang 5good job rs brayat i love you so much wisdom an excellent",
         "1",
         "0",
         "['pelayanan']",
         "positive"
        ],
        [
         "17",
         "RS Brayat Minulya",
         "5",
         "pelayanan baik perawat dan dokter ramah dan tanggap",
         "1",
         "0",
         "['pelayanan']",
         "positive"
        ],
        [
         "18",
         "RS Brayat Minulya",
         "5",
         "pelayanan baik perawat ramah ruangan bersih",
         "1",
         "1",
         "['pelayanan', 'fasilitas']",
         "positive"
        ],
        [
         "19",
         "RS Brayat Minulya",
         "4",
         "anak diruang teresia 109 pelayanan sangat nyaman danmemuaskan",
         "1",
         "1",
         "['pelayanan', 'fasilitas']",
         "positive"
        ],
        [
         "20",
         "RS Brayat Minulya",
         "5",
         "anak di ruang tresia 12b untuk pelayanan nya cukup baik penjelasan nya cukup baik",
         "1",
         "1",
         "['pelayanan', 'fasilitas']",
         "positive"
        ],
        [
         "21",
         "RS Brayat Minulya",
         "5",
         "pelayanan dari satpam bgs pendftran bgs dokter dan perawat jg bgs baik sabar dan ontem sekali pencetbel",
         "1",
         "0",
         "['pelayanan']",
         "positive"
        ],
        [
         "22",
         "RS Brayat Minulya",
         "2",
         "antrian laboratoriumnya cepat hanya petugasnya yang lakilaki kurang sopan dan tidak ramah semoga lebih baik lagi",
         "1",
         "0",
         "['pelayanan']",
         "negative"
        ],
        [
         "23",
         "RS Brayat Minulya",
         "1",
         "dibagian pendaftaran salah terus dalam memberi informasi rujukan maupun antrian dokter",
         "1",
         "1",
         "['pelayanan', 'fasilitas']",
         "negative"
        ],
        [
         "24",
         "RS Brayat Minulya",
         "5",
         "saya merasa perawatan dan pengobatan di rs brayat dilayani dengan sepenuh hati dengan dokter dokter serta perawat yang sabar dan cepat respon dengan segala keluhan pasien sangat ramah dan murah senyumthks rs brayat suskes selalu terimakasih bu beti dan semua dokter dan perawatrs brayatjaya terus",
         "1",
         "0",
         "['pelayanan']",
         "positive"
        ],
        [
         "25",
         "RS Brayat Minulya",
         "5",
         "pelayanan dan penanganan sangat baik segala proses baik berobat maupun opname terkhusus nya untuk ruang yosep sangat whort it tuhan yesus memberkati",
         "1",
         "1",
         "['pelayanan', 'fasilitas']",
         "positive"
        ],
        [
         "26",
         "RS Brayat Minulya",
         "5",
         "sepengalaman saya baik dari pelayanan serta fasilitas yang kami dapati sudah menemuhi syarat yang ada terimakasih dan sukses untuk seluruh stackholder rs brayat",
         "1",
         "1",
         "['pelayanan', 'fasilitas']",
         "positive"
        ],
        [
         "27",
         "RS Brayat Minulya",
         "5",
         "ruang teresia 112d sangat ramah sekali",
         "1",
         "1",
         "['pelayanan', 'fasilitas']",
         "positive"
        ],
        [
         "28",
         "RS Brayat Minulya",
         "5",
         "pelayanan cepat dan ramah",
         "1",
         "0",
         "['pelayanan']",
         "positive"
        ],
        [
         "29",
         "RS Brayat Minulya",
         "5",
         "pelayanannya sangat baik perawat dokter melayani dengan baik ruang kamar maria b 314 nyaman aman bersih makan minum pun juga baik terimakasih semoga tuhan selalu memberkati",
         "1",
         "1",
         "['pelayanan', 'fasilitas']",
         "positive"
        ],
        [
         "30",
         "RS Brayat Minulya",
         "5",
         "pelayanan di ruang yoseph sangat ramah dan cekatansemoga rsbm semakin sukses kedepannyadan menjadi rumah sakit yg selalu dicintai warga solo dan sekitarnya",
         "1",
         "0",
         "['pelayanan']",
         "positive"
        ],
        [
         "31",
         "RS Brayat Minulya",
         "5",
         "trimakasih saya bpk jumadi sudah di rawat di ruang yosep dengan baik dan ramah",
         "1",
         "1",
         "['pelayanan', 'fasilitas']",
         "neutral"
        ],
        [
         "32",
         "RS Brayat Minulya",
         "5",
         "trimaksih atas pelayanan di ruang yosep perawat dan dokter ramah dan baik yg sudah merawat suami saya bpk kali trimakasih",
         "1",
         "0",
         "['pelayanan']",
         "positive"
        ],
        [
         "33",
         "RS Brayat Minulya",
         "5",
         "trimakasih atas perawatan ibu saya ibu sudarmi sdhdibrawat dengan baik di ruang yosep",
         "1",
         "1",
         "['pelayanan', 'fasilitas']",
         "neutral"
        ],
        [
         "34",
         "RS Brayat Minulya",
         "5",
         "perawatan di ruang yosep baik pelayanan cepattrimakasih",
         "1",
         "1",
         "['pelayanan', 'fasilitas']",
         "positive"
        ],
        [
         "35",
         "RS Brayat Minulya",
         "5",
         "perawatan di ruang yosep perawatnya dan dokterpetugas yang lain baik dan ramahtrimakasih",
         "1",
         "1",
         "['pelayanan', 'fasilitas']",
         "positive"
        ],
        [
         "36",
         "RS Brayat Minulya",
         "5",
         "trimakasih atas perawatan saat ini di ruang yosep baik baik dokter dan perawat",
         "1",
         "1",
         "['pelayanan', 'fasilitas']",
         "neutral"
        ],
        [
         "37",
         "RS Brayat Minulya",
         "5",
         "saya saat ini di rawat di ruang yosepperawatdokter dan petugas yang lain juga baik dan ramahtrimakasih",
         "1",
         "1",
         "['pelayanan', 'fasilitas']",
         "positive"
        ],
        [
         "38",
         "RS Brayat Minulya",
         "5",
         "trimakasih atas perawatan di ruang yosepbaik dan ramah semua petugas",
         "1",
         "1",
         "['pelayanan', 'fasilitas']",
         "positive"
        ],
        [
         "39",
         "RS Brayat Minulya",
         "5",
         "perawatan nya baik",
         "1",
         "0",
         "['pelayanan']",
         "positive"
        ],
        [
         "40",
         "RS Brayat Minulya",
         "5",
         "kerja bagus theresia 112a",
         "1",
         "1",
         "['pelayanan', 'fasilitas']",
         "positive"
        ],
        [
         "41",
         "RS Brayat Minulya",
         "5",
         "anak saya dirawat di ruang theresia oleh dr pudjiastuti spa penjelasan dari dokter sangat jelas perawatnya ramah2 ruangan bersih dan nyaman terimakasih rs brayat minulya",
         "1",
         "1",
         "['pelayanan', 'fasilitas']",
         "positive"
        ],
        [
         "42",
         "RS Brayat Minulya",
         "5",
         "terimakasih doktersuwardi dan perawat poliibsdan perawat di ruang theresia yg sudah baik dan sabar dalam merawat anak saya evano gibran radikasemoga selalu di beri kesahatan dan keberkahan dalam pelayanansukses dan maju terus rsbrayat minulya",
         "1",
         "0",
         "['pelayanan']",
         "positive"
        ],
        [
         "43",
         "RS Brayat Minulya",
         "5",
         "pelayanan baik bagus sekali",
         "1",
         "0",
         "['pelayanan']",
         "positive"
        ],
        [
         "44",
         "RS Brayat Minulya",
         "5",
         "pelayanan baik dan sangat ramah",
         "1",
         "0",
         "['pelayanan']",
         "positive"
        ],
        [
         "45",
         "RS Brayat Minulya",
         "5",
         "pelayanan cepatperhatian dan santun",
         "1",
         "0",
         "['pelayanan']",
         "positive"
        ],
        [
         "46",
         "RS Brayat Minulya",
         "5",
         "pelayanan sangat puas",
         "1",
         "0",
         "['pelayanan']",
         "positive"
        ],
        [
         "47",
         "RS Brayat Minulya",
         "5",
         "anak sy dirawat bbrp hari lalu krn demam trombosit turun dari awal datang sampe pulang tidak ada kendala sama sekali dan pelayanan ke pasien jg baik meskipun kami memakai bpjs sip lah",
         "1",
         "0",
         "['pelayanan']",
         "positive"
        ],
        [
         "48",
         "RS Brayat Minulya",
         "5",
         "pelayanan dirumah sakit brayat minulya ruang theresia kelas 3 no 112 sangat baik perawatnya ramah ramah jaya terus brayat minulya",
         "1",
         "1",
         "['pelayanan', 'fasilitas']",
         "positive"
        ],
        [
         "49",
         "RS Brayat Minulya",
         "5",
         "ramah baik memuaskan theresia kamar 104",
         "1",
         "1",
         "['pelayanan', 'fasilitas']",
         "positive"
        ]
       ],
       "shape": {
        "columns": 7,
        "rows": 7639
       }
      },
      "text/html": [
       "<div>\n",
       "<style scoped>\n",
       "    .dataframe tbody tr th:only-of-type {\n",
       "        vertical-align: middle;\n",
       "    }\n",
       "\n",
       "    .dataframe tbody tr th {\n",
       "        vertical-align: top;\n",
       "    }\n",
       "\n",
       "    .dataframe thead th {\n",
       "        text-align: right;\n",
       "    }\n",
       "</style>\n",
       "<table border=\"1\" class=\"dataframe\">\n",
       "  <thead>\n",
       "    <tr style=\"text-align: right;\">\n",
       "      <th></th>\n",
       "      <th>title</th>\n",
       "      <th>stars</th>\n",
       "      <th>text</th>\n",
       "      <th>pelayanan</th>\n",
       "      <th>fasilitas</th>\n",
       "      <th>predicted_labels</th>\n",
       "      <th>sentiment</th>\n",
       "    </tr>\n",
       "  </thead>\n",
       "  <tbody>\n",
       "    <tr>\n",
       "      <th>0</th>\n",
       "      <td>RS Brayat Minulya</td>\n",
       "      <td>5</td>\n",
       "      <td>telah dirawat di sini selama beberapa hari di ...</td>\n",
       "      <td>1</td>\n",
       "      <td>1</td>\n",
       "      <td>['pelayanan', 'fasilitas']</td>\n",
       "      <td>positive</td>\n",
       "    </tr>\n",
       "    <tr>\n",
       "      <th>1</th>\n",
       "      <td>RS Brayat Minulya</td>\n",
       "      <td>5</td>\n",
       "      <td>bersih dan rapi petugas peeawatdokter ditanya ...</td>\n",
       "      <td>1</td>\n",
       "      <td>1</td>\n",
       "      <td>['pelayanan', 'fasilitas']</td>\n",
       "      <td>positive</td>\n",
       "    </tr>\n",
       "    <tr>\n",
       "      <th>2</th>\n",
       "      <td>RS Brayat Minulya</td>\n",
       "      <td>5</td>\n",
       "      <td>terimakasih atas pelayanan dan perawatan ibu s...</td>\n",
       "      <td>1</td>\n",
       "      <td>0</td>\n",
       "      <td>['pelayanan']</td>\n",
       "      <td>positive</td>\n",
       "    </tr>\n",
       "    <tr>\n",
       "      <th>3</th>\n",
       "      <td>RS Brayat Minulya</td>\n",
       "      <td>5</td>\n",
       "      <td>pelayanan diruang yosef bagus perawat ramah ra...</td>\n",
       "      <td>1</td>\n",
       "      <td>0</td>\n",
       "      <td>['pelayanan']</td>\n",
       "      <td>positive</td>\n",
       "    </tr>\n",
       "    <tr>\n",
       "      <th>4</th>\n",
       "      <td>RS Brayat Minulya</td>\n",
       "      <td>5</td>\n",
       "      <td>tempatnya bagusrapi nyaman sekali ruangan nya ...</td>\n",
       "      <td>1</td>\n",
       "      <td>1</td>\n",
       "      <td>['pelayanan', 'fasilitas']</td>\n",
       "      <td>positive</td>\n",
       "    </tr>\n",
       "    <tr>\n",
       "      <th>...</th>\n",
       "      <td>...</td>\n",
       "      <td>...</td>\n",
       "      <td>...</td>\n",
       "      <td>...</td>\n",
       "      <td>...</td>\n",
       "      <td>...</td>\n",
       "      <td>...</td>\n",
       "    </tr>\n",
       "    <tr>\n",
       "      <th>7634</th>\n",
       "      <td>Rumah Sakit Umum Pusat Surakarta</td>\n",
       "      <td>4</td>\n",
       "      <td>lama banget pelayanan untuk pasien baru ibu ny...</td>\n",
       "      <td>1</td>\n",
       "      <td>0</td>\n",
       "      <td>['pelayanan']</td>\n",
       "      <td>negative</td>\n",
       "    </tr>\n",
       "    <tr>\n",
       "      <th>7635</th>\n",
       "      <td>Rumah Sakit Umum Pusat Surakarta</td>\n",
       "      <td>4</td>\n",
       "      <td>hospital yg sangat rapi pelayanan bagus</td>\n",
       "      <td>1</td>\n",
       "      <td>1</td>\n",
       "      <td>['pelayanan', 'fasilitas']</td>\n",
       "      <td>positive</td>\n",
       "    </tr>\n",
       "    <tr>\n",
       "      <th>7636</th>\n",
       "      <td>Rumah Sakit Umum Pusat Surakarta</td>\n",
       "      <td>4</td>\n",
       "      <td>khusus paru</td>\n",
       "      <td>0</td>\n",
       "      <td>0</td>\n",
       "      <td>[]</td>\n",
       "      <td>positive</td>\n",
       "    </tr>\n",
       "    <tr>\n",
       "      <th>7637</th>\n",
       "      <td>Rumah Sakit Umum Pusat Surakarta</td>\n",
       "      <td>5</td>\n",
       "      <td>rs paru</td>\n",
       "      <td>0</td>\n",
       "      <td>0</td>\n",
       "      <td>[]</td>\n",
       "      <td>neutral</td>\n",
       "    </tr>\n",
       "    <tr>\n",
       "      <th>7638</th>\n",
       "      <td>Rumah Sakit Umum Pusat Surakarta</td>\n",
       "      <td>5</td>\n",
       "      <td>rumah sakit untuk menangani penyakit paru dan ...</td>\n",
       "      <td>1</td>\n",
       "      <td>1</td>\n",
       "      <td>['pelayanan', 'fasilitas']</td>\n",
       "      <td>positive</td>\n",
       "    </tr>\n",
       "  </tbody>\n",
       "</table>\n",
       "<p>7639 rows × 7 columns</p>\n",
       "</div>"
      ],
      "text/plain": [
       "                                 title  stars  \\\n",
       "0                    RS Brayat Minulya      5   \n",
       "1                    RS Brayat Minulya      5   \n",
       "2                    RS Brayat Minulya      5   \n",
       "3                    RS Brayat Minulya      5   \n",
       "4                    RS Brayat Minulya      5   \n",
       "...                                ...    ...   \n",
       "7634  Rumah Sakit Umum Pusat Surakarta      4   \n",
       "7635  Rumah Sakit Umum Pusat Surakarta      4   \n",
       "7636  Rumah Sakit Umum Pusat Surakarta      4   \n",
       "7637  Rumah Sakit Umum Pusat Surakarta      5   \n",
       "7638  Rumah Sakit Umum Pusat Surakarta      5   \n",
       "\n",
       "                                                   text  pelayanan  fasilitas  \\\n",
       "0     telah dirawat di sini selama beberapa hari di ...          1          1   \n",
       "1     bersih dan rapi petugas peeawatdokter ditanya ...          1          1   \n",
       "2     terimakasih atas pelayanan dan perawatan ibu s...          1          0   \n",
       "3     pelayanan diruang yosef bagus perawat ramah ra...          1          0   \n",
       "4     tempatnya bagusrapi nyaman sekali ruangan nya ...          1          1   \n",
       "...                                                 ...        ...        ...   \n",
       "7634  lama banget pelayanan untuk pasien baru ibu ny...          1          0   \n",
       "7635            hospital yg sangat rapi pelayanan bagus          1          1   \n",
       "7636                                        khusus paru          0          0   \n",
       "7637                                            rs paru          0          0   \n",
       "7638  rumah sakit untuk menangani penyakit paru dan ...          1          1   \n",
       "\n",
       "                predicted_labels sentiment  \n",
       "0     ['pelayanan', 'fasilitas']  positive  \n",
       "1     ['pelayanan', 'fasilitas']  positive  \n",
       "2                  ['pelayanan']  positive  \n",
       "3                  ['pelayanan']  positive  \n",
       "4     ['pelayanan', 'fasilitas']  positive  \n",
       "...                          ...       ...  \n",
       "7634               ['pelayanan']  negative  \n",
       "7635  ['pelayanan', 'fasilitas']  positive  \n",
       "7636                          []  positive  \n",
       "7637                          []   neutral  \n",
       "7638  ['pelayanan', 'fasilitas']  positive  \n",
       "\n",
       "[7639 rows x 7 columns]"
      ]
     },
     "execution_count": 5,
     "metadata": {},
     "output_type": "execute_result"
    }
   ],
   "source": [
    "# import data\n",
    "data = pd.read_csv(r\"D:\\Willy's Project\\Project\\Magang Diskominfo\\data\\result.csv\")\n",
    "# rubah nama labels menjadi sentiment\n",
    "data.rename(columns={'labels': 'sentiment'}, inplace=True)\n",
    "\n",
    "data"
   ]
  },
  {
   "cell_type": "code",
   "execution_count": 6,
   "id": "0b3e8ec4",
   "metadata": {},
   "outputs": [
    {
     "name": "stdout",
     "output_type": "stream",
     "text": [
      "Tabel Kontingensi:\n",
      "sentiment  negative  neutral  positive\n",
      "stars                                 \n",
      "1               690       73        36\n",
      "2               143       20        15\n",
      "3               111       43        68\n",
      "4                89       69       410\n",
      "5               102      282      5488\n"
     ]
    }
   ],
   "source": [
    "# 1. Buat tabel kontingensi\n",
    "contingency_table = pd.crosstab(data['stars'], data['sentiment'])\n",
    "print(\"Tabel Kontingensi:\")\n",
    "print(contingency_table)"
   ]
  },
  {
   "cell_type": "code",
   "execution_count": 7,
   "id": "90d8a24a",
   "metadata": {},
   "outputs": [
    {
     "name": "stdout",
     "output_type": "stream",
     "text": [
      "\n",
      "Hasil Uji Chi-Square:\n",
      "Chi-Square Statistic: 5155.99\n",
      "P-value: 0.0000\n",
      "Degrees of Freedom: 8\n"
     ]
    }
   ],
   "source": [
    "# 2. Uji Chi-Square\n",
    "chi2, p, dof, expected = chi2_contingency(contingency_table)\n",
    "print(\"\\nHasil Uji Chi-Square:\")\n",
    "print(f\"Chi-Square Statistic: {chi2:.2f}\")\n",
    "print(f\"P-value: {p:.4f}\")\n",
    "print(f\"Degrees of Freedom: {dof}\")"
   ]
  },
  {
   "cell_type": "code",
   "execution_count": 8,
   "id": "7e44cf2b",
   "metadata": {},
   "outputs": [
    {
     "name": "stdout",
     "output_type": "stream",
     "text": [
      "Cramér’s V: 0.5809\n"
     ]
    }
   ],
   "source": [
    "# 3. Hitung Cramér’s V\n",
    "n = contingency_table.sum().sum()  # Total observasi\n",
    "phi2 = chi2 / n\n",
    "r, k = contingency_table.shape\n",
    "cramers_v = np.sqrt(phi2 / min(r-1, k-1))\n",
    "print(f\"Cramér’s V: {cramers_v:.4f}\")"
   ]
  },
  {
   "cell_type": "code",
   "execution_count": 9,
   "id": "7384f390",
   "metadata": {},
   "outputs": [
    {
     "data": {
      "image/png": "[encoded data removed]",
      "text/plain": [
       "<Figure size 640x480 with 2 Axes>"
      ]
     },
     "metadata": {},
     "output_type": "display_data"
    }
   ],
   "source": [
    "# 5. Visualisasi dengan Heatmap\n",
    "sns.heatmap(contingency_table, annot=True, fmt='d', cmap='Blues')\n",
    "plt.title('Heatmap Tabel Kontingensi Stars vs Sentimen')\n",
    "plt.xlabel('Sentimen')\n",
    "plt.ylabel('Stars')\n",
    "plt.show()"
   ]
  }
 ],
 "metadata": {
  "kernelspec": {
   "display_name": "Python 3",
   "language": "python",
   "name": "python3"
  },
  "language_info": {
   "codemirror_mode": {
    "name": "ipython",
    "version": 3
   },
   "file_extension": ".py",
   "mimetype": "text/x-python",
   "name": "python",
   "nbconvert_exporter": "python",
   "pygments_lexer": "ipython3",
   "version": "3.11.0"
  }
 },
 "nbformat": 4,
 "nbformat_minor": 5
}
